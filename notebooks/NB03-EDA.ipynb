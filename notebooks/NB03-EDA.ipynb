{
 "cells": [
  {
   "cell_type": "code",
   "execution_count": null,
   "metadata": {},
   "outputs": [],
   "source": [
    "!pip install pandas numpy lets-plot numerize tqdm sqlalchemy jupysql"
   ]
  },
  {
   "cell_type": "code",
   "execution_count": null,
   "metadata": {},
   "outputs": [],
   "source": [
    "import kaggle\n",
    "import csv\n",
    "import os\n",
    "import json\n",
    "import numpy as np\n",
    "import pandas as pd\n",
    "import sqlite3\n",
    "\n",
    "from tqdm.notebook import tqdm, trange\n",
    "tqdm.pandas()\n",
    "from numerize import numerize as nz\n",
    "from lets_plot import *\n",
    "from lets_plot.mapping import *\n",
    "LetsPlot.setup_html()\n",
    "from dotenv import dotenv_values"
   ]
  },
  {
   "cell_type": "markdown",
   "metadata": {},
   "source": [
    "# Part III: EDA\n"
   ]
  },
  {
   "cell_type": "markdown",
   "metadata": {},
   "source": [
    "Before doing EDA, let's first read data from our SQLite database."
   ]
  },
  {
   "cell_type": "code",
   "execution_count": null,
   "metadata": {},
   "outputs": [],
   "source": [
    "DATA_FOLDER = os.path.join('../data/clean')"
   ]
  },
  {
   "cell_type": "code",
   "execution_count": null,
   "metadata": {},
   "outputs": [],
   "source": [
    "# Pandas require an active connection\n",
    "conn = sqlite3.connect(os.path.join(DATA_FOLDER, 'crime_db.db'))\n",
    "\n",
    "# Load the data from the product_listing table into a pandas DataFrame\n",
    "df = pd.read_sql_query('''\n",
    "SELECT * FROM crime_listing;\n",
    "''', conn)"
   ]
  },
  {
   "cell_type": "code",
   "execution_count": null,
   "metadata": {},
   "outputs": [],
   "source": [
    "df"
   ]
  },
  {
   "cell_type": "markdown",
   "metadata": {},
   "source": [
    "Now we can do some data visualization and comparison. We will explore three main themes:\n",
    "- Crime Count by Hour\n",
    "- Different Types of Crimes\n",
    "- Geographic Distribution of Crime Incidents"
   ]
  },
  {
   "cell_type": "code",
   "execution_count": null,
   "metadata": {},
   "outputs": [],
   "source": [
    "df = df.dropna(subset=['CrimeTime'])"
   ]
  },
  {
   "cell_type": "code",
   "execution_count": null,
   "metadata": {},
   "outputs": [],
   "source": [
    "df_Baltimore = df[df['City']=='Baltimore']\n",
    "df_Vancouver = df[df['City']=='Vancouver']"
   ]
  },
  {
   "cell_type": "code",
   "execution_count": null,
   "metadata": {},
   "outputs": [],
   "source": [
    "start_date = '2013-01-01'\n",
    "end_date = '2016-12-31'\n",
    "\n",
    "df_modify = df[\n",
    "    (df['CrimeDate'] >= start_date) &\n",
    "    (df['CrimeDate'] <= end_date)\n",
    "] \n",
    "\n",
    "df_Baltimore = df_Baltimore[\n",
    "    (df_Baltimore['City'] == 'Baltimore') &\n",
    "    (df_Baltimore['CrimeDate'] >= start_date) &\n",
    "    (df_Baltimore['CrimeDate'] <= end_date)\n",
    "]\n",
    "\n",
    "df_Vancouver = df_Vancouver[\n",
    "    (df_Vancouver['City'] == 'Vancouver') &\n",
    "    (df_Vancouver['CrimeDate'] >= start_date) &\n",
    "    (df_Vancouver['CrimeDate'] <= end_date)\n",
    "]\n"
   ]
  },
  {
   "cell_type": "code",
   "execution_count": null,
   "metadata": {},
   "outputs": [],
   "source": [
    "# Baltimore\n",
    "df_Baltimore['CrimeTime'] = pd.to_datetime(df_Baltimore['CrimeTime'], errors='coerce')\n",
    "df_Baltimore['hour'] = df_Baltimore['CrimeTime'].dt.hour\n",
    "\n",
    "hourly_crime_counts = df_Baltimore.groupby('hour').size()\n",
    "hourly_crime_counts_ba = hourly_crime_counts.reset_index(name='crimecount')\n",
    "hourly_crime_counts_ba['city'] = 'Baltimore'\n",
    "hourly_crime_counts_ba"
   ]
  },
  {
   "cell_type": "code",
   "execution_count": null,
   "metadata": {},
   "outputs": [],
   "source": [
    "# save_path = '../docs/figures/' \n",
    "# os.makedirs(save_path, exist_ok=True)\n",
    "\n",
    "\n",
    "# plot = (ggplot(hourly_crime_counts_ba, aes(x='hour', y='Baltimore', fill='Baltimore')) +\n",
    "#         geom_bar(stat='identity') +\n",
    "#         ggtitle('Amount of Crime in Baltimore by Hour') +\n",
    "#         labs(x='Hour', y='Count') +\n",
    "#         theme(axis_text_x=element_text(angle=45, hjust=1)) +\n",
    "#         scale_fill_gradient(low='#ADD8E6', high='#00008B'))\n",
    "# plot.show()\n",
    "\n",
    "# ggsave(filename=os.path.join('Amount of Crime in Baltimore by Hour(2013-2016).html'), plot=plot, dpi=300)"
   ]
  },
  {
   "cell_type": "code",
   "execution_count": null,
   "metadata": {},
   "outputs": [],
   "source": [
    "# Vancouver\n",
    "df_Vancouver['CrimeTime'] = pd.to_datetime(df_Vancouver['CrimeTime'], errors='coerce', format='%H:%M:%S')\n",
    "df_Vancouver['hour'] = df_Vancouver['CrimeTime'].dt.hour\n",
    "\n",
    "hourly_crime_counts_va = df_Vancouver.groupby('hour').size()\n",
    "hourly_crime_counts_va = hourly_crime_counts_va.reset_index(name='crimecount')\n",
    "hourly_crime_counts_va['city'] = 'Vancouver'\n",
    "hourly_crime_counts_va"
   ]
  },
  {
   "cell_type": "code",
   "execution_count": null,
   "metadata": {},
   "outputs": [],
   "source": [
    "df_hour = pd.concat([hourly_crime_counts_ba, hourly_crime_counts_va])"
   ]
  },
  {
   "cell_type": "code",
   "execution_count": null,
   "metadata": {},
   "outputs": [],
   "source": [
    "save_path = '../../docs/figures'\n",
    "\n",
    "plot = (ggplot(df_hour, aes(x='hour', y='crimecount', fill='city')) +\n",
    "        geom_bar(stat='identity') +\n",
    "        ggtitle('Total Amount of Crime by Hour(2013-2016): Baltimore VS Vancouver') +\n",
    "        labs(x='Hour', y='Crime Count') +\n",
    "        theme(axis_text_x=element_text(angle=45, hjust=1)) +\n",
    "        facet_wrap('city', ncol = 2) \n",
    "        )\n",
    "plot.show()\n",
    "\n",
    "ggsave(filename=os.path.join(save_path, 'Total_Amount_of_Crime_by_Hour(2013-2016).html'), plot=plot, dpi=300)"
   ]
  },
  {
   "cell_type": "markdown",
   "metadata": {},
   "source": [
    "Then came to different types of crime:"
   ]
  },
  {
   "cell_type": "markdown",
   "metadata": {},
   "source": [
    "- Overall"
   ]
  },
  {
   "cell_type": "code",
   "execution_count": null,
   "metadata": {},
   "outputs": [],
   "source": [
    "crime_type_counts = df_modify['Description'].value_counts().reset_index()\n",
    "crime_type_counts.columns = ['Description', 'Count']\n",
    "\n",
    "plot = (ggplot(crime_type_counts, aes(x='Description', y='Count', fill='Description')) +\n",
    "        geom_bar(stat='identity') +\n",
    "        ggtitle('Repartition of Crime by Type from 2013 to 2016') +\n",
    "        labs(x='Crime Type', y='Count') \n",
    "        )\n",
    "\n",
    "plot.show()\n",
    "\n",
    "ggsave(filename=os.path.join(save_path, 'Overall_Crime_Type_Count.html'), plot=plot, dpi=300)"
   ]
  },
  {
   "cell_type": "code",
   "execution_count": null,
   "metadata": {},
   "outputs": [],
   "source": [
    "plot = (ggplot(crime_type_counts, aes(x='Description', y='Count', fill='Description')) +\n",
    "        geom_bar(stat='identity') +\n",
    "        ggtitle('Repartition of Crime by Type from 2013 to 2016(axis scale modified)') +\n",
    "        labs(x='Crime Type', y='Count') +\n",
    "        scale_y_log10())\n",
    "\n",
    "plot.show()\n",
    "\n",
    "ggsave(filename=os.path.join(save_path, 'Overall_Crime_Type_Count_log.html'), plot=plot, dpi=300)"
   ]
  },
  {
   "cell_type": "markdown",
   "metadata": {},
   "source": [
    "- Baltimore"
   ]
  },
  {
   "cell_type": "code",
   "execution_count": null,
   "metadata": {},
   "outputs": [],
   "source": [
    "df['CrimeDate'] = pd.to_datetime(df['CrimeDate'], errors='coerce')\n",
    "\n",
    "df = df.dropna(subset=['CrimeDate'])\n",
    "\n",
    "filtered_df = df[(df['City'] == 'Baltimore') & (df['CrimeDate'].dt.year.isin([2013, 2014, 2015, 2016]))]\n",
    "\n",
    "crime_type_counts = filtered_df['Description'].value_counts().reset_index()\n",
    "crime_type_counts.columns = ['Description', 'Count']\n",
    "\n",
    "plot = (ggplot(crime_type_counts, aes(x='Description', y='Count', fill='Description')) +\n",
    "        geom_bar(stat='identity') +\n",
    "        ggtitle('Repartition of Crime by Type in Baltimore from 2013 to 2016(axis scale modified)') +\n",
    "        labs(x='Crime Type', y='Count') +\n",
    "        scale_y_log10())\n",
    "\n",
    "plot.show()\n",
    "        \n",
    "\n",
    "ggsave(filename=os.path.join(save_path, 'Crime_Type_Count_in_Baltimore.html'), plot=plot, dpi=300)"
   ]
  },
  {
   "cell_type": "markdown",
   "metadata": {},
   "source": [
    "- Vancouver"
   ]
  },
  {
   "cell_type": "code",
   "execution_count": null,
   "metadata": {},
   "outputs": [],
   "source": [
    "df['CrimeDate'] = pd.to_datetime(df['CrimeDate'], errors='coerce')\n",
    "\n",
    "df = df.dropna(subset=['CrimeDate'])\n",
    "\n",
    "filtered_df = df[(df['City'] == 'Vancouver') & (df['CrimeDate'].dt.year.isin([2013, 2014, 2015, 2016]))]\n",
    "\n",
    "crime_type_counts = filtered_df['Description'].value_counts().reset_index()\n",
    "crime_type_counts.columns = ['Description', 'Count']\n",
    "\n",
    "plot = (ggplot(crime_type_counts, aes(x='Description', y='Count', fill='Description')) +\n",
    "        geom_bar(stat='identity') +\n",
    "        ggtitle('Repartition of Crime by Type in Vancouver from 2013 to 2016(axis scale modified)') +\n",
    "        labs(x='Crime Type', y='Count') +\n",
    "        scale_y_log10())\n",
    "        \n",
    "\n",
    "plot.show()\n",
    "\n",
    "ggsave(filename=os.path.join(save_path, 'Crime_Type_Count_in_Vancouver.html'), plot=plot, dpi=300)"
   ]
  },
  {
   "cell_type": "markdown",
   "metadata": {},
   "source": [
    "Finally, the Geographic Distribution from 2013 to 2016:"
   ]
  },
  {
   "cell_type": "markdown",
   "metadata": {},
   "source": [
    "- Baltimore"
   ]
  },
  {
   "cell_type": "code",
   "execution_count": null,
   "metadata": {},
   "outputs": [],
   "source": [
    "# generate a map based on the data (latitude and longitude) and the type of crime (description)\n",
    "df = df.dropna(subset=['Latitude', 'Longitude'])\n",
    "df = df[df['Longitude'] != 0]\n",
    "df = df[df['Latitude'] != 0]\n",
    "\n",
    "\n",
    "df['Description'] = as_discrete(df['Description'])\n"
   ]
  },
  {
   "cell_type": "code",
   "execution_count": null,
   "metadata": {},
   "outputs": [],
   "source": [
    "# plot on the map the different types of crimes using lets-plot\n",
    "# use `geom_livemap()` to plot on the map and `geom_point()` to plot the points\n",
    "# use `aes()` to specify the aesthetics of the plot\n",
    "# only with `city`=='Baltimore'\n",
    "df['CrimeDate'] = pd.to_datetime(df['CrimeDate'], errors='coerce')\n",
    "filter_df = df[(df['City'] == 'Baltimore') & (df['CrimeDate'].dt.year.isin([2013, 2014, 2015, 2016]))]\n",
    "\n",
    "# plot and add a title\n",
    "plot = (ggplot(data=filter_df) +\n",
    "        geom_livemap() +\n",
    "        geom_point(aes(x='Longitude', y='Latitude', color='Description'), size=2, alpha=0.3) +\n",
    "        scale_color_manual(values={\n",
    "            'Theft': '#FF0000',        # Red  \n",
    "            'Burglary': '#00FF00',       # Green  \n",
    "            'Other': '#A52A2A',  # Brown\n",
    "            'Assault': '#0000FF',          # Blue \n",
    "            'Homicide': '#FFA500',       # Orange\n",
    "            'Robbery': '#800080',        # Purple  \n",
    "            'Sexual offense': '#FFFF00',          # Yellow'\n",
    "        }) +\n",
    "        ggtitle('Geographical Distribution of Crime in Baltimore from 2013 to 2016'))\n",
    "\n",
    "plot.show()\n",
    "\n",
    "ggsave(filename=os.path.join(save_path, 'Crime_Map_in_Baltimore_(2013-2016).html'), plot=plot, dpi=300)\n"
   ]
  },
  {
   "cell_type": "code",
   "execution_count": null,
   "metadata": {},
   "outputs": [],
   "source": [
    "df['CrimeDate'] = pd.to_datetime(df['CrimeDate'], errors='coerce')\n",
    "\n",
    "# delete rows with missing values in the CrimeDate column\n",
    "df = df.dropna(subset=['CrimeDate'])\n",
    "\n",
    "# filter the data to only include crimes in Baltimore in 2013\n",
    "filtered_df = df[(df['City'] == 'Baltimore') & (df['CrimeDate'].dt.year == 2013)]\n",
    "\n",
    "# plot and add a title\n",
    "plot = (ggplot(data=filtered_df) +\n",
    "        geom_livemap() +\n",
    "        geom_point(aes(x='Longitude', y='Latitude', color='Description'), size=2, alpha=0.3) +\n",
    "        scale_color_manual(values={\n",
    "            'Theft': '#FF0000',        # Red  \n",
    "            'Burglary': '#00FF00',       # Green  \n",
    "            'Other': '#A52A2A',  # Brown\n",
    "            'Assault': '#0000FF',          # Blue \n",
    "            'Homicide': '#FFA500',       # Orange\n",
    "            'Robbery': '#800080',        # Purple  \n",
    "            'Sexual offense': '#FFFF00',          # Yellow'\n",
    "        }) +\n",
    "        ggtitle('Geographical Distribution of Crime in Baltimore in 2013'))\n",
    "\n",
    "\n",
    "plot.show()\n",
    "\n",
    "ggsave(filename=os.path.join(save_path, 'Crime_Map_in_Baltimore_(2013).html'), plot=plot, dpi=300)"
   ]
  },
  {
   "cell_type": "code",
   "execution_count": null,
   "metadata": {},
   "outputs": [],
   "source": [
    "df['CrimeDate'] = pd.to_datetime(df['CrimeDate'], errors='coerce')\n",
    "\n",
    "# delete rows with missing values in the CrimeDate column\n",
    "df = df.dropna(subset=['CrimeDate'])\n",
    "\n",
    "# filter the data to only include crimes in Baltimore in 2014\n",
    "filtered_df = df[(df['City'] == 'Baltimore') & (df['CrimeDate'].dt.year == 2014)]\n",
    "\n",
    "# plot and add a title\n",
    "plot = (ggplot(data=filtered_df) +\n",
    "        geom_livemap() +\n",
    "        geom_point(aes(x='Longitude', y='Latitude', color='Description'), size=2, alpha=0.3) +\n",
    "        scale_color_manual(values={\n",
    "            'Theft': '#FF0000',        # Red  \n",
    "            'Burglary': '#00FF00',       # Green  \n",
    "            'Other': '#A52A2A',  # Brown\n",
    "            'Assault': '#0000FF',          # Blue \n",
    "            'Homicide': '#FFA500',       # Orange\n",
    "            'Robbery': '#800080',        # Purple  \n",
    "            'Sexual offense': '#FFFF00',          # Yellow'\n",
    "        }) +\n",
    "        ggtitle('Geographical Distribution of Crime in Baltimore in 2014'))\n",
    "\n",
    "plot.show()\n",
    "\n",
    "ggsave(filename=os.path.join(save_path, 'Crime_Map_in_Baltimore_(2014).html'), plot=plot, dpi=300)"
   ]
  },
  {
   "cell_type": "code",
   "execution_count": null,
   "metadata": {},
   "outputs": [],
   "source": [
    "df['CrimeDate'] = pd.to_datetime(df['CrimeDate'], errors='coerce')\n",
    "\n",
    "# delete rows with missing values in the CrimeDate column\n",
    "df = df.dropna(subset=['CrimeDate'])\n",
    "\n",
    "# filter the data to only include crimes in Baltimore in 2015\n",
    "filtered_df = df[(df['City'] == 'Baltimore') & (df['CrimeDate'].dt.year == 2015)]\n",
    "\n",
    "# plot and add a title\n",
    "plot = (ggplot(data=filtered_df) +\n",
    "        geom_livemap() +\n",
    "        geom_point(aes(x='Longitude', y='Latitude', color='Description'), size=2, alpha=0.3) +\n",
    "        scale_color_manual(values={\n",
    "            'Theft': '#FF0000',        # Red  \n",
    "            'Burglary': '#00FF00',       # Green  \n",
    "            'Other': '#A52A2A',  # Brown\n",
    "            'Assault': '#0000FF',          # Blue \n",
    "            'Homicide': '#FFA500',       # Orange\n",
    "            'Robbery': '#800080',        # Purple  \n",
    "            'Sexual offense': '#FFFF00',          # Yellow'\n",
    "        }) +\n",
    "        ggtitle('Geographical Distribution of Crime in Baltimore in 2015'))\n",
    "\n",
    "plot.show()\n",
    "\n",
    "ggsave(filename=os.path.join(save_path, 'Crime_Map_in_Baltimore_(2015).html'), plot=plot, dpi=300)"
   ]
  },
  {
   "cell_type": "code",
   "execution_count": null,
   "metadata": {},
   "outputs": [],
   "source": [
    "df['CrimeDate'] = pd.to_datetime(df['CrimeDate'], errors='coerce')\n",
    "\n",
    "# delete rows with missing values in the CrimeDate column\n",
    "df = df.dropna(subset=['CrimeDate'])\n",
    "\n",
    "# filter the data to only include crimes in Baltimore in 2016\n",
    "filtered_df = df[(df['City'] == 'Baltimore') & (df['CrimeDate'].dt.year == 2016)]\n",
    "\n",
    "# plot and add a title\n",
    "plot = (ggplot(data=filtered_df) +\n",
    "        geom_livemap() +\n",
    "        geom_point(aes(x='Longitude', y='Latitude', color='Description'), size=2, alpha=0.3) +\n",
    "        scale_color_manual(values={\n",
    "            'Theft': '#FF0000',        # Red  \n",
    "            'Burglary': '#00FF00',       # Green  \n",
    "            'Other': '#A52A2A',  # Brown\n",
    "            'Assault': '#0000FF',          # Blue \n",
    "            'Homicide': '#FFA500',       # Orange\n",
    "            'Robbery': '#800080',        # Purple  \n",
    "            'Sexual offense': '#FFFF00',          # Yellow'\n",
    "        }) +\n",
    "        ggtitle('Geographical Distribution of Crime in Baltimore in 2016'))\n",
    "\n",
    "plot.show()\n",
    "\n",
    "ggsave(filename=os.path.join(save_path, 'Crime_Map_in_Baltimore_(2015).html'), plot=plot, dpi=300)"
   ]
  },
  {
   "cell_type": "markdown",
   "metadata": {},
   "source": [
    "- Vancouver"
   ]
  },
  {
   "cell_type": "code",
   "execution_count": null,
   "metadata": {},
   "outputs": [],
   "source": [
    "# df['CrimeDate'] = pd.to_datetime(df['CrimeDate'], errors='coerce')\n",
    "\n",
    "# df = df.dropna(subset=['CrimeDate'])\n",
    "\n",
    "# filtered_df = df[(df['City'] == 'Vancouver') & (df['CrimeDate'].dt.year.isin([2013, 2014, 2015, 2016]))]\n",
    "\n",
    "# crime_type_counts = filtered_df['Description'].value_counts().reset_index()\n",
    "# crime_type_counts.columns = ['Description', 'Count']\n",
    "\n",
    "# plot = (ggplot(crime_type_counts, aes(x='Description', y='Count', fill='Description')) +\n",
    "#         geom_bar(stat='identity') +\n",
    "#         ggtitle('Repartition of Crime by Type in Vancouver from 2013 to 2016') +\n",
    "#         labs(x='Crime Type', y='Count') +\n",
    "#         theme(axis_text_x=element_text(angle=45, hjust=1)))\n",
    "        \n",
    "\n",
    "# plot.show()\n",
    "\n",
    "# ggsave(filename=os.path.join(save_path, 'Crime Type Count in Vancouver.html'), plot=plot, dpi=300)"
   ]
  },
  {
   "cell_type": "code",
   "execution_count": null,
   "metadata": {},
   "outputs": [],
   "source": [
    "# plot on the map the different types of crimes using lets-plot\n",
    "# use `geom_livemap()` to plot on the map and `geom_point()` to plot the points\n",
    "# use `aes()` to specify the aesthetics of the plot\n",
    "# only with `city`=='Baltimore'\n",
    "\n",
    "filter_df = df[(df['City'] == 'Vancouver') & (df['CrimeDate'].dt.year.isin([2013, 2014, 2015, 2016]))]\n",
    "\n",
    "plot = (ggplot(data=filter_df) +\n",
    "        geom_livemap() +\n",
    "        geom_point(aes(x='Longitude', y='Latitude', color='Description'), size=2, alpha=0.3) +\n",
    "        scale_color_manual(values={\n",
    "            'Theft': '#FF0000',        # Red  \n",
    "            'Burglary': '#800080',        # Purple  \n",
    "            'Other': '#00FF00',       # Green \n",
    "            'Accident': '#0000FF',          # Blue\n",
    "        }) +\n",
    "        ggtitle('Geographical Distribution of Crime in Vancouver from 2013 to 2016')\n",
    "        )\n",
    "\n",
    "plot.show()\n",
    "\n",
    "ggsave(filename=os.path.join(save_path, 'Crime_Map_in_Vancouver_(2013-2016).html'), plot=plot, dpi=300)\n"
   ]
  },
  {
   "cell_type": "code",
   "execution_count": null,
   "metadata": {},
   "outputs": [],
   "source": [
    "df['CrimeDate'] = pd.to_datetime(df['CrimeDate'], errors='coerce')\n",
    "\n",
    "# delete rows with missing values in the CrimeDate column\n",
    "df = df.dropna(subset=['CrimeDate'])\n",
    "\n",
    "# filter the data to only include crimes in Vancouver in 2013\n",
    "filtered_df = df[(df['City'] == 'Vancouver') & (df['CrimeDate'].dt.year == 2013)]\n",
    "\n",
    "# plot and add a title\n",
    "plot = (ggplot(data=filtered_df) +\n",
    "        geom_livemap() +\n",
    "        geom_point(aes(x='Longitude', y='Latitude', color='Description'), size=2, alpha=0.3) +\n",
    "        scale_color_manual(values={\n",
    "            'Theft': '#FF0000',        # Red  \n",
    "            'Burglary': '#800080',        # Purple  \n",
    "            'Other': '#00FF00',       # Green \n",
    "            'Accident': '#0000FF',          # Blue\n",
    "        }) +\n",
    "        ggtitle('Geographical Distribution of Crime in Vancouver in 2013')\n",
    "        )\n",
    "\n",
    "plot.show()\n",
    "\n",
    "ggsave(filename=os.path.join(save_path, 'Crime_Map_in_Vancouver_(2013).html'), plot=plot, dpi=300)"
   ]
  },
  {
   "cell_type": "code",
   "execution_count": null,
   "metadata": {},
   "outputs": [],
   "source": [
    "df['CrimeDate'] = pd.to_datetime(df['CrimeDate'], errors='coerce')\n",
    "\n",
    "# delete rows with missing values in the CrimeDate column\n",
    "df = df.dropna(subset=['CrimeDate'])\n",
    "\n",
    "# filter the data to only include crimes in Vancouver in 2014\n",
    "filtered_df = df[(df['City'] == 'Vancouver') & (df['CrimeDate'].dt.year == 2014)]\n",
    "\n",
    "# plot and add a title\n",
    "plot = (ggplot(data=filtered_df) +\n",
    "        geom_livemap() +\n",
    "        geom_point(aes(x='Longitude', y='Latitude', color='Description'), size=3, alpha=0.3) +\n",
    "        scale_color_manual(values={\n",
    "            'Theft': '#FF0000',        # Red  \n",
    "            'Burglary': '#0000FF',          # Blue  \n",
    "            'Other': '#00FF00',       # Green \n",
    "            'Accident': '#800080',        # Purple \n",
    "        }) +\n",
    "        ggtitle('Geographical Distribution of Crime in Vancouver in 2014'))\n",
    "\n",
    "plot.show()\n",
    "\n",
    "ggsave(filename=os.path.join(save_path, 'Crime_Map_in_Vancouver_(2014).html'), plot=plot, dpi=300)"
   ]
  },
  {
   "cell_type": "code",
   "execution_count": null,
   "metadata": {},
   "outputs": [],
   "source": [
    "df['CrimeDate'] = pd.to_datetime(df['CrimeDate'], errors='coerce')\n",
    "\n",
    "# delete rows with missing values in the CrimeDate column\n",
    "df = df.dropna(subset=['CrimeDate'])\n",
    "\n",
    "# filter the data to only include crimes in Vancouver in 2015\n",
    "filtered_df = df[(df['City'] == 'Vancouver') & (df['CrimeDate'].dt.year == 2015)]\n",
    "\n",
    "# plot and add a title\n",
    "plot = (ggplot(data=filtered_df) +\n",
    "        geom_livemap() +\n",
    "        geom_point(aes(x='Longitude', y='Latitude', color='Description'), size=3, alpha=0.3) +\n",
    "        scale_color_manual(values={\n",
    "            'Theft': '#FF0000',        # Red  \n",
    "            'Burglary': '#0000FF',          # Blue  \n",
    "            'Other': '#00FF00',       # Green \n",
    "            'Accident': '#800080',        # Purple \n",
    "        }) +\n",
    "        ggtitle('Geographical Distribution of Crime in Vancouver in 2015'))\n",
    "\n",
    "plot.show()\n",
    "\n",
    "ggsave(filename=os.path.join(save_path, 'Crime_Map_in_Vancouver_(2015).html'), plot=plot, dpi=300)"
   ]
  },
  {
   "cell_type": "code",
   "execution_count": null,
   "metadata": {},
   "outputs": [],
   "source": [
    "df['CrimeDate'] = pd.to_datetime(df['CrimeDate'], errors='coerce')\n",
    "\n",
    "# delete rows with missing values in the CrimeDate column\n",
    "df = df.dropna(subset=['CrimeDate'])\n",
    "\n",
    "# filter the data to only include crimes in Vancouver in 2016\n",
    "filtered_df = df[(df['City'] == 'Vancouver') & (df['CrimeDate'].dt.year == 2016)]\n",
    "\n",
    "# plot and add a title\n",
    "plot = (ggplot(data=filtered_df) +\n",
    "        geom_livemap() +\n",
    "        geom_point(aes(x='Longitude', y='Latitude', color='Description'), size=3, alpha=0.3) +\n",
    "        scale_color_manual(values={\n",
    "            'Theft': '#FF0000',        # Red  \n",
    "            'Burglary': '#0000FF',          # Blue  \n",
    "            'Other': '#00FF00',       # Green \n",
    "            'Accident': '#800080',        # Purple \n",
    "        }) +\n",
    "        ggtitle('Geographical Distribution of Crime in Vancouver in 2016'))\n",
    "\n",
    "plot.show()\n",
    "\n",
    "ggsave(filename=os.path.join(save_path, 'Crime_Map_in_Vancouver_(2016).html'), plot=plot, dpi=300)"
   ]
  },
  {
   "cell_type": "code",
   "execution_count": null,
   "metadata": {},
   "outputs": [],
   "source": [
    "!pip freeze > requirement.txt"
   ]
  }
 ],
 "metadata": {
  "kernelspec": {
   "display_name": "base",
   "language": "python",
   "name": "python3"
  },
  "language_info": {
   "codemirror_mode": {
    "name": "ipython",
    "version": 3
   },
   "file_extension": ".py",
   "mimetype": "text/x-python",
   "name": "python",
   "nbconvert_exporter": "python",
   "pygments_lexer": "ipython3",
   "version": "3.11.7"
  }
 },
 "nbformat": 4,
 "nbformat_minor": 2
}
