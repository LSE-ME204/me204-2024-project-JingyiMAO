{
 "cells": [
  {
   "cell_type": "code",
   "execution_count": null,
   "metadata": {},
   "outputs": [],
   "source": [
    "！pip install pandas numpy lets-plot numerize tqdm sqlalchemy jupysql"
   ]
  },
  {
   "cell_type": "code",
   "execution_count": 1,
   "metadata": {},
   "outputs": [
    {
     "data": {
      "text/html": [
       "\n",
       "            <div id=\"eo11EY\"></div>\n",
       "            <script type=\"text/javascript\" data-lets-plot-script=\"library\">\n",
       "                if(!window.letsPlotCallQueue) {\n",
       "                    window.letsPlotCallQueue = [];\n",
       "                }; \n",
       "                window.letsPlotCall = function(f) {\n",
       "                    window.letsPlotCallQueue.push(f);\n",
       "                };\n",
       "                (function() {\n",
       "                    var script = document.createElement(\"script\");\n",
       "                    script.type = \"text/javascript\";\n",
       "                    script.src = \"https://cdn.jsdelivr.net/gh/JetBrains/lets-plot@v4.3.3/js-package/distr/lets-plot.min.js\";\n",
       "                    script.onload = function() {\n",
       "                        window.letsPlotCall = function(f) {f();};\n",
       "                        window.letsPlotCallQueue.forEach(function(f) {f();});\n",
       "                        window.letsPlotCallQueue = [];\n",
       "                        \n",
       "                    };\n",
       "                    script.onerror = function(event) {\n",
       "                        window.letsPlotCall = function(f) {};    // noop\n",
       "                        window.letsPlotCallQueue = [];\n",
       "                        var div = document.createElement(\"div\");\n",
       "                        div.style.color = 'darkred';\n",
       "                        div.textContent = 'Error loading Lets-Plot JS';\n",
       "                        document.getElementById(\"eo11EY\").appendChild(div);\n",
       "                    };\n",
       "                    var e = document.getElementById(\"eo11EY\");\n",
       "                    e.appendChild(script);\n",
       "                })()\n",
       "            </script>\n",
       "            "
      ]
     },
     "metadata": {},
     "output_type": "display_data"
    }
   ],
   "source": [
    "import kaggle\n",
    "import csv\n",
    "import os\n",
    "import json\n",
    "import numpy as np\n",
    "import pandas as pd\n",
    "import sqlite3\n",
    "\n",
    "from tqdm.notebook import tqdm, trange\n",
    "tqdm.pandas()\n",
    "from numerize import numerize as nz\n",
    "from lets_plot import *\n",
    "from lets_plot.mapping import *\n",
    "LetsPlot.setup_html()\n",
    "from dotenv import dotenv_values"
   ]
  },
  {
   "cell_type": "markdown",
   "metadata": {},
   "source": [
    "# Part II: Build Database"
   ]
  },
  {
   "cell_type": "markdown",
   "metadata": {},
   "source": [
    "We've already store the crime data in two dataframes, and the next step is to perform some data cleaning to make the two datasets comparable including:"
   ]
  },
  {
   "cell_type": "markdown",
   "metadata": {},
   "source": [
    "- Delete unnecessary columns in dataframe\n",
    "- Add column 'City' to distinguish two cities\n",
    "- Adjust the 'CrimeTime' column to make data store in the date format\n",
    "- Reclassify the crime types\n",
    "- Drop invalid and NA data "
   ]
  },
  {
   "cell_type": "code",
   "execution_count": 2,
   "metadata": {},
   "outputs": [
    {
     "ename": "NameError",
     "evalue": "name 'df_VANCOUVER' is not defined",
     "output_type": "error",
     "traceback": [
      "\u001b[1;31m---------------------------------------------------------------------------\u001b[0m",
      "\u001b[1;31mNameError\u001b[0m                                 Traceback (most recent call last)",
      "Cell \u001b[1;32mIn[2], line 1\u001b[0m\n\u001b[1;32m----> 1\u001b[0m df_VANCOUVER[\u001b[38;5;124m'\u001b[39m\u001b[38;5;124mCrimeDate\u001b[39m\u001b[38;5;124m'\u001b[39m] \u001b[38;5;241m=\u001b[39m pd\u001b[38;5;241m.\u001b[39mto_datetime(df_VANCOUVER[\u001b[38;5;124m'\u001b[39m\u001b[38;5;124mDAY\u001b[39m\u001b[38;5;124m'\u001b[39m]\u001b[38;5;241m.\u001b[39mastype(\u001b[38;5;28mstr\u001b[39m) \u001b[38;5;241m+\u001b[39m \u001b[38;5;124m'\u001b[39m\u001b[38;5;124m/\u001b[39m\u001b[38;5;124m'\u001b[39m \u001b[38;5;241m+\u001b[39m df_VANCOUVER[\u001b[38;5;124m'\u001b[39m\u001b[38;5;124mMONTH\u001b[39m\u001b[38;5;124m'\u001b[39m]\u001b[38;5;241m.\u001b[39mastype(\u001b[38;5;28mstr\u001b[39m) \u001b[38;5;241m+\u001b[39m \u001b[38;5;124m'\u001b[39m\u001b[38;5;124m/\u001b[39m\u001b[38;5;124m'\u001b[39m \u001b[38;5;241m+\u001b[39m df_VANCOUVER[\u001b[38;5;124m'\u001b[39m\u001b[38;5;124mYEAR\u001b[39m\u001b[38;5;124m'\u001b[39m]\u001b[38;5;241m.\u001b[39mastype(\u001b[38;5;28mstr\u001b[39m), \u001b[38;5;28mformat\u001b[39m\u001b[38;5;241m=\u001b[39m\u001b[38;5;124m'\u001b[39m\u001b[38;5;132;01m%d\u001b[39;00m\u001b[38;5;124m/\u001b[39m\u001b[38;5;124m%\u001b[39m\u001b[38;5;124mm/\u001b[39m\u001b[38;5;124m%\u001b[39m\u001b[38;5;124mY\u001b[39m\u001b[38;5;124m'\u001b[39m)\n\u001b[0;32m      2\u001b[0m df_VANCOUVER \u001b[38;5;241m=\u001b[39m df_VANCOUVER\u001b[38;5;241m.\u001b[39mdropna(subset\u001b[38;5;241m=\u001b[39m[\u001b[38;5;124m'\u001b[39m\u001b[38;5;124mHOUR\u001b[39m\u001b[38;5;124m'\u001b[39m, \u001b[38;5;124m'\u001b[39m\u001b[38;5;124mMINUTE\u001b[39m\u001b[38;5;124m'\u001b[39m])\n\u001b[0;32m      3\u001b[0m df_VANCOUVER[\u001b[38;5;124m'\u001b[39m\u001b[38;5;124mHOUR\u001b[39m\u001b[38;5;124m'\u001b[39m] \u001b[38;5;241m=\u001b[39m df_VANCOUVER[\u001b[38;5;124m'\u001b[39m\u001b[38;5;124mHOUR\u001b[39m\u001b[38;5;124m'\u001b[39m]\u001b[38;5;241m.\u001b[39mastype(\u001b[38;5;28mint\u001b[39m)\u001b[38;5;241m.\u001b[39mastype(\u001b[38;5;28mstr\u001b[39m)\u001b[38;5;241m.\u001b[39mstr\u001b[38;5;241m.\u001b[39mzfill(\u001b[38;5;241m2\u001b[39m)\n",
      "\u001b[1;31mNameError\u001b[0m: name 'df_VANCOUVER' is not defined"
     ]
    }
   ],
   "source": [
    "df_VANCOUVER['CrimeDate'] = pd.to_datetime(df_VANCOUVER['DAY'].astype(str) + '/' + df_VANCOUVER['MONTH'].astype(str) + '/' + df_VANCOUVER['YEAR'].astype(str), format='%d/%m/%Y')\n",
    "df_VANCOUVER = df_VANCOUVER.dropna(subset=['HOUR', 'MINUTE'])\n",
    "df_VANCOUVER['HOUR'] = df_VANCOUVER['HOUR'].astype(int).astype(str).str.zfill(2)\n",
    "df_VANCOUVER['MINUTE'] = df_VANCOUVER['MINUTE'].astype(int).astype(str).str.zfill(2)\n",
    "df_VANCOUVER['CrimeTime'] = pd.to_datetime(df_VANCOUVER['HOUR'] + ':' + df_VANCOUVER['MINUTE'], format='%H:%M').dt.time\n",
    "df_VANCOUVER=df_VANCOUVER.drop(columns=['YEAR','MONTH','DAY','HOUR','MINUTE','X','Y'])\n",
    "df_VANCOUVER['Total Incidents']=1\n",
    "df_VANCOUVER['City']='Vancouver'\n",
    "df_VANCOUVER\n",
    "#lower snake case"
   ]
  },
  {
   "cell_type": "code",
   "execution_count": null,
   "metadata": {},
   "outputs": [
    {
     "name": "stdout",
     "output_type": "stream",
     "text": [
      "['CrimeDate', 'CrimeTime', 'Location', 'Description', 'Neighborhood', 'Longitude', 'Latitude', 'Total Incidents', 'City']\n",
      "['TYPE', 'HUNDRED_BLOCK', 'NEIGHBOURHOOD', 'Latitude', 'Longitude', 'CrimeDate', 'CrimeTime', 'Total Incidents', 'City']\n"
     ]
    }
   ],
   "source": [
    "print(df_BALTIMORE.columns.tolist()) \n",
    "print(df_VANCOUVER.columns.tolist())"
   ]
  },
  {
   "cell_type": "code",
   "execution_count": null,
   "metadata": {},
   "outputs": [],
   "source": [
    "df_VANCOUVER.rename(columns={'TYPE': 'Description', \n",
    "                    'HUNDRED_BLOCK': 'Location', \n",
    "                    'NEIGHBOURHOOD': 'Neighborhood'}, inplace=True)\n"
   ]
  },
  {
   "cell_type": "code",
   "execution_count": null,
   "metadata": {},
   "outputs": [
    {
     "name": "stdout",
     "output_type": "stream",
     "text": [
      "Description\n",
      "LARCENY                 60528\n",
      "COMMON ASSAULT          45518\n",
      "BURGLARY                42538\n",
      "LARCENY FROM AUTO       36295\n",
      "AGG. ASSAULT            27513\n",
      "AUTO THEFT              26838\n",
      "ROBBERY - STREET        17691\n",
      "ROBBERY - COMMERCIAL     4141\n",
      "ASSAULT BY THREAT        3503\n",
      "SHOOTING                 2910\n",
      "ROBBERY - RESIDENCE      2866\n",
      "RAPE                     1637\n",
      "HOMICIDE                 1559\n",
      "ROBBERY - CARJACKING     1528\n",
      "ARSON                    1464\n",
      "Name: count, dtype: int64\n"
     ]
    }
   ],
   "source": [
    "value_counts = df_BALTIMORE['Description'].value_counts()\n",
    "\n",
    "print(value_counts)"
   ]
  },
  {
   "cell_type": "code",
   "execution_count": null,
   "metadata": {},
   "outputs": [
    {
     "name": "stdout",
     "output_type": "stream",
     "text": [
      "Description\n",
      "Theft from Vehicle                                        172700\n",
      "Mischief                                                   70413\n",
      "Break and Enter Residential/Other                          60862\n",
      "Other Theft                                                52167\n",
      "Theft of Vehicle                                           38418\n",
      "Break and Enter Commercial                                 33845\n",
      "Theft of Bicycle                                           25730\n",
      "Vehicle Collision or Pedestrian Struck (with Injury)       21901\n",
      "Vehicle Collision or Pedestrian Struck (with Fatality)       254\n",
      "Name: count, dtype: int64\n"
     ]
    }
   ],
   "source": [
    "value_counts = df_VANCOUVER['Description'].value_counts()\n",
    "print(value_counts)"
   ]
  },
  {
   "cell_type": "code",
   "execution_count": null,
   "metadata": {},
   "outputs": [],
   "source": [
    "df_merged = pd.concat([df_BALTIMORE, df_VANCOUVER], ignore_index=True)"
   ]
  },
  {
   "cell_type": "code",
   "execution_count": null,
   "metadata": {},
   "outputs": [
    {
     "name": "stdout",
     "output_type": "stream",
     "text": [
      "Description\n",
      "Theft from Vehicle                                        172700\n",
      "Mischief                                                   70413\n",
      "Break and Enter Residential/Other                          60862\n",
      "LARCENY                                                    60528\n",
      "Other Theft                                                52167\n",
      "COMMON ASSAULT                                             45518\n",
      "BURGLARY                                                   42538\n",
      "Theft of Vehicle                                           38418\n",
      "LARCENY FROM AUTO                                          36295\n",
      "Break and Enter Commercial                                 33845\n",
      "AGG. ASSAULT                                               27513\n",
      "AUTO THEFT                                                 26838\n",
      "Theft of Bicycle                                           25730\n",
      "Vehicle Collision or Pedestrian Struck (with Injury)       21901\n",
      "ROBBERY - STREET                                           17691\n",
      "ROBBERY - COMMERCIAL                                        4141\n",
      "ASSAULT BY THREAT                                           3503\n",
      "SHOOTING                                                    2910\n",
      "ROBBERY - RESIDENCE                                         2866\n",
      "RAPE                                                        1637\n",
      "HOMICIDE                                                    1559\n",
      "ROBBERY - CARJACKING                                        1528\n",
      "ARSON                                                       1464\n",
      "Vehicle Collision or Pedestrian Struck (with Fatality)       254\n",
      "Name: count, dtype: int64\n"
     ]
    }
   ],
   "source": [
    "value_counts = df_merged['Description'].value_counts()\n",
    "\n",
    "print(value_counts)"
   ]
  },
  {
   "cell_type": "code",
   "execution_count": null,
   "metadata": {},
   "outputs": [],
   "source": [
    "df_merged['Description'] = df_merged['Description'].replace({'Theft from Vehicle': 'Theft', \n",
    "                                                             'Mischief': 'Other',\n",
    "                                                             'Break and Enter Residential/Other': 'Burglary',\n",
    "                                                             'LARCENY': 'Theft',\n",
    "                                                             'Other Theft':'Theft',\n",
    "                                                             'COMMON ASSAULT': 'Assault',\n",
    "                                                             'BURGLARY': 'Burglary',\n",
    "                                                             'Theft of Vehicle': 'Theft',\n",
    "                                                             'LARCENY FROM AUTO': 'Theft',\n",
    "                                                             'Break and Enter Commercial': 'Burglary',\n",
    "                                                             'AGG. ASSAULT':'Assault',\n",
    "                                                             'AUTO THEFT': 'Theft',\n",
    "                                                             'Theft of Bicycle': 'Theft',\n",
    "                                                             'Vehicle Collision or Pedestrian Struck (with Injury)': 'Accident',\n",
    "                                                             'ROBBERY - STREET':'Robbery',\n",
    "                                                             'ROBBERY - COMMERCIAL':'Robbery',\n",
    "                                                             'ASSAULT BY THREAT':'Assault',\n",
    "                                                             'SHOOTING':'Homicide',\n",
    "                                                             'ROBBERY - RESIDENCE':'Burglary',\n",
    "                                                             'RAPE':'Sexual offense',\n",
    "                                                             'HOMICIDE':'Homicide',\n",
    "                                                             'ROBBERY - CARJACKING':'Robbery',\n",
    "                                                             'ARSON':'Other',\n",
    "                                                             'Vehicle Collision or Pedestrian Struck (with Fatality)': 'Accident'\n",
    "                                                             })"
   ]
  },
  {
   "cell_type": "code",
   "execution_count": null,
   "metadata": {},
   "outputs": [],
   "source": [
    "invalid_rows = df_merged['Longitude'].apply(lambda x: -123.9 < x < -123.8 or -122.9 < x < -122.8 or x < -124.1)\n",
    "df = df_merged[~invalid_rows]"
   ]
  },
  {
   "cell_type": "markdown",
   "metadata": {},
   "source": [
    "- Here is our final dataframe:"
   ]
  },
  {
   "cell_type": "code",
   "execution_count": null,
   "metadata": {},
   "outputs": [
    {
     "data": {
      "text/html": [
       "<div>\n",
       "<style scoped>\n",
       "    .dataframe tbody tr th:only-of-type {\n",
       "        vertical-align: middle;\n",
       "    }\n",
       "\n",
       "    .dataframe tbody tr th {\n",
       "        vertical-align: top;\n",
       "    }\n",
       "\n",
       "    .dataframe thead th {\n",
       "        text-align: right;\n",
       "    }\n",
       "</style>\n",
       "<table border=\"1\" class=\"dataframe\">\n",
       "  <thead>\n",
       "    <tr style=\"text-align: right;\">\n",
       "      <th></th>\n",
       "      <th>CrimeDate</th>\n",
       "      <th>CrimeTime</th>\n",
       "      <th>Location</th>\n",
       "      <th>Description</th>\n",
       "      <th>Neighborhood</th>\n",
       "      <th>Longitude</th>\n",
       "      <th>Latitude</th>\n",
       "      <th>Total Incidents</th>\n",
       "      <th>City</th>\n",
       "    </tr>\n",
       "  </thead>\n",
       "  <tbody>\n",
       "    <tr>\n",
       "      <th>0</th>\n",
       "      <td>2017-09-02</td>\n",
       "      <td>23:30:00</td>\n",
       "      <td>4200 AUDREY AVE</td>\n",
       "      <td>Burglary</td>\n",
       "      <td>Brooklyn</td>\n",
       "      <td>-76.605410</td>\n",
       "      <td>39.229510</td>\n",
       "      <td>1</td>\n",
       "      <td>Baltimore</td>\n",
       "    </tr>\n",
       "    <tr>\n",
       "      <th>1</th>\n",
       "      <td>2017-09-02</td>\n",
       "      <td>23:00:00</td>\n",
       "      <td>800 NEWINGTON AVE</td>\n",
       "      <td>Theft</td>\n",
       "      <td>Reservoir Hill</td>\n",
       "      <td>-76.632170</td>\n",
       "      <td>39.313600</td>\n",
       "      <td>1</td>\n",
       "      <td>Baltimore</td>\n",
       "    </tr>\n",
       "    <tr>\n",
       "      <th>2</th>\n",
       "      <td>2017-09-02</td>\n",
       "      <td>22:53:00</td>\n",
       "      <td>600 RADNOR AV</td>\n",
       "      <td>Homicide</td>\n",
       "      <td>Winston-Govans</td>\n",
       "      <td>-76.606970</td>\n",
       "      <td>39.347680</td>\n",
       "      <td>1</td>\n",
       "      <td>Baltimore</td>\n",
       "    </tr>\n",
       "    <tr>\n",
       "      <th>3</th>\n",
       "      <td>2017-09-02</td>\n",
       "      <td>22:50:00</td>\n",
       "      <td>1800 RAMSAY ST</td>\n",
       "      <td>Assault</td>\n",
       "      <td>Carrollton Ridge</td>\n",
       "      <td>-76.645260</td>\n",
       "      <td>39.283150</td>\n",
       "      <td>1</td>\n",
       "      <td>Baltimore</td>\n",
       "    </tr>\n",
       "    <tr>\n",
       "      <th>4</th>\n",
       "      <td>2017-09-02</td>\n",
       "      <td>22:31:00</td>\n",
       "      <td>100 LIGHT ST</td>\n",
       "      <td>Assault</td>\n",
       "      <td>Downtown West</td>\n",
       "      <td>-76.613650</td>\n",
       "      <td>39.287560</td>\n",
       "      <td>1</td>\n",
       "      <td>Baltimore</td>\n",
       "    </tr>\n",
       "    <tr>\n",
       "      <th>...</th>\n",
       "      <td>...</td>\n",
       "      <td>...</td>\n",
       "      <td>...</td>\n",
       "      <td>...</td>\n",
       "      <td>...</td>\n",
       "      <td>...</td>\n",
       "      <td>...</td>\n",
       "      <td>...</td>\n",
       "      <td>...</td>\n",
       "    </tr>\n",
       "    <tr>\n",
       "      <th>752814</th>\n",
       "      <td>2017-01-18</td>\n",
       "      <td>14:44:00</td>\n",
       "      <td>14XX E HASTINGS ST</td>\n",
       "      <td>Other</td>\n",
       "      <td>Grandview-Woodland</td>\n",
       "      <td>-123.074746</td>\n",
       "      <td>49.281276</td>\n",
       "      <td>1</td>\n",
       "      <td>Vancouver</td>\n",
       "    </tr>\n",
       "    <tr>\n",
       "      <th>752815</th>\n",
       "      <td>2017-03-03</td>\n",
       "      <td>09:16:00</td>\n",
       "      <td>31XX ADANAC ST</td>\n",
       "      <td>Burglary</td>\n",
       "      <td>Hastings-Sunrise</td>\n",
       "      <td>-123.037595</td>\n",
       "      <td>49.277420</td>\n",
       "      <td>1</td>\n",
       "      <td>Vancouver</td>\n",
       "    </tr>\n",
       "    <tr>\n",
       "      <th>752816</th>\n",
       "      <td>2017-05-29</td>\n",
       "      <td>22:30:00</td>\n",
       "      <td>14XX E 7TH AVE</td>\n",
       "      <td>Other</td>\n",
       "      <td>Grandview-Woodland</td>\n",
       "      <td>-123.075129</td>\n",
       "      <td>49.264163</td>\n",
       "      <td>1</td>\n",
       "      <td>Vancouver</td>\n",
       "    </tr>\n",
       "    <tr>\n",
       "      <th>752817</th>\n",
       "      <td>2017-06-05</td>\n",
       "      <td>17:00:00</td>\n",
       "      <td>8XX HAMILTON ST</td>\n",
       "      <td>Theft</td>\n",
       "      <td>Central Business District</td>\n",
       "      <td>-123.117031</td>\n",
       "      <td>49.278168</td>\n",
       "      <td>1</td>\n",
       "      <td>Vancouver</td>\n",
       "    </tr>\n",
       "    <tr>\n",
       "      <th>752818</th>\n",
       "      <td>2017-06-06</td>\n",
       "      <td>17:38:00</td>\n",
       "      <td>13XX BLOCK PARK DR</td>\n",
       "      <td>Accident</td>\n",
       "      <td>Marpole</td>\n",
       "      <td>-123.134512</td>\n",
       "      <td>49.215706</td>\n",
       "      <td>1</td>\n",
       "      <td>Vancouver</td>\n",
       "    </tr>\n",
       "  </tbody>\n",
       "</table>\n",
       "<p>752814 rows × 9 columns</p>\n",
       "</div>"
      ],
      "text/plain": [
       "        CrimeDate CrimeTime            Location Description  \\\n",
       "0      2017-09-02  23:30:00     4200 AUDREY AVE    Burglary   \n",
       "1      2017-09-02  23:00:00   800 NEWINGTON AVE       Theft   \n",
       "2      2017-09-02  22:53:00       600 RADNOR AV    Homicide   \n",
       "3      2017-09-02  22:50:00      1800 RAMSAY ST     Assault   \n",
       "4      2017-09-02  22:31:00        100 LIGHT ST     Assault   \n",
       "...           ...       ...                 ...         ...   \n",
       "752814 2017-01-18  14:44:00  14XX E HASTINGS ST       Other   \n",
       "752815 2017-03-03  09:16:00      31XX ADANAC ST    Burglary   \n",
       "752816 2017-05-29  22:30:00      14XX E 7TH AVE       Other   \n",
       "752817 2017-06-05  17:00:00     8XX HAMILTON ST       Theft   \n",
       "752818 2017-06-06  17:38:00  13XX BLOCK PARK DR    Accident   \n",
       "\n",
       "                     Neighborhood   Longitude   Latitude  Total Incidents  \\\n",
       "0                        Brooklyn  -76.605410  39.229510                1   \n",
       "1                  Reservoir Hill  -76.632170  39.313600                1   \n",
       "2                  Winston-Govans  -76.606970  39.347680                1   \n",
       "3                Carrollton Ridge  -76.645260  39.283150                1   \n",
       "4                   Downtown West  -76.613650  39.287560                1   \n",
       "...                           ...         ...        ...              ...   \n",
       "752814         Grandview-Woodland -123.074746  49.281276                1   \n",
       "752815           Hastings-Sunrise -123.037595  49.277420                1   \n",
       "752816         Grandview-Woodland -123.075129  49.264163                1   \n",
       "752817  Central Business District -123.117031  49.278168                1   \n",
       "752818                    Marpole -123.134512  49.215706                1   \n",
       "\n",
       "             City  \n",
       "0       Baltimore  \n",
       "1       Baltimore  \n",
       "2       Baltimore  \n",
       "3       Baltimore  \n",
       "4       Baltimore  \n",
       "...           ...  \n",
       "752814  Vancouver  \n",
       "752815  Vancouver  \n",
       "752816  Vancouver  \n",
       "752817  Vancouver  \n",
       "752818  Vancouver  \n",
       "\n",
       "[752814 rows x 9 columns]"
      ]
     },
     "execution_count": 15,
     "metadata": {},
     "output_type": "execute_result"
    }
   ],
   "source": [
    "df"
   ]
  },
  {
   "cell_type": "code",
   "execution_count": null,
   "metadata": {},
   "outputs": [
    {
     "name": "stdout",
     "output_type": "stream",
     "text": [
      "<class 'pandas.core.frame.DataFrame'>\n",
      "Index: 750610 entries, 0 to 752818\n",
      "Data columns (total 9 columns):\n",
      " #   Column           Non-Null Count   Dtype         \n",
      "---  ------           --------------   -----         \n",
      " 0   CrimeDate        750610 non-null  datetime64[ns]\n",
      " 1   CrimeTime        750610 non-null  object        \n",
      " 2   Location         750594 non-null  object        \n",
      " 3   Description      750610 non-null  object        \n",
      " 4   Neighborhood     747817 non-null  object        \n",
      " 5   Longitude        750610 non-null  float64       \n",
      " 6   Latitude         750610 non-null  float64       \n",
      " 7   Total Incidents  750610 non-null  int64         \n",
      " 8   City             750610 non-null  object        \n",
      "dtypes: datetime64[ns](1), float64(2), int64(1), object(5)\n",
      "memory usage: 57.3+ MB\n"
     ]
    }
   ],
   "source": [
    "df.info()"
   ]
  },
  {
   "cell_type": "markdown",
   "metadata": {},
   "source": [
    "TODO:\n",
    "\n",
    "- Remember to save the database (`data/clean/crime.db`) (look back to this week's notebooks on databases)"
   ]
  },
  {
   "cell_type": "code",
   "execution_count": null,
   "metadata": {},
   "outputs": [],
   "source": [
    "DATA_FOLDER = os.path.join('../data/clean')"
   ]
  },
  {
   "cell_type": "code",
   "execution_count": null,
   "metadata": {},
   "outputs": [],
   "source": [
    "# Create a SQLite database in the ../data/clean/crime.db\n",
    "conn = sqlite3.connect(os.path.join(DATA_FOLDER, './crime.db'))"
   ]
  },
  {
   "cell_type": "code",
   "execution_count": null,
   "metadata": {},
   "outputs": [],
   "source": [
    "# Create our table based on the crime data we have\n",
    "\n",
    "conn.execute('''\n",
    "CREATE TABLE IF NOT EXISTS crime_listing (\n",
    "    CrimeDate DATETIME,\n",
    "    CrimeTime DATETIME,\n",
    "    Location TEXT,\n",
    "    Description TEXT,\n",
    "    Neighborhood TEXT PRIMARY KEY,\n",
    "    Longitude REAL,\n",
    "    Latitude REAL,\n",
    "    Total Incidents\tINTEGER,\n",
    "    City TEXT\n",
    ")\n",
    "''')\n"
   ]
  },
  {
   "cell_type": "code",
   "execution_count": null,
   "metadata": {},
   "outputs": [],
   "source": [
    "!pip freeze > requirement.txt"
   ]
  }
 ],
 "metadata": {
  "kernelspec": {
   "display_name": "base",
   "language": "python",
   "name": "python3"
  },
  "language_info": {
   "codemirror_mode": {
    "name": "ipython",
    "version": 3
   },
   "file_extension": ".py",
   "mimetype": "text/x-python",
   "name": "python",
   "nbconvert_exporter": "python",
   "pygments_lexer": "ipython3",
   "version": "3.11.7"
  }
 },
 "nbformat": 4,
 "nbformat_minor": 2
}
