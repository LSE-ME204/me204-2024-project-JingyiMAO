{
 "cells": [
  {
   "cell_type": "code",
   "execution_count": 20,
   "metadata": {},
   "outputs": [],
   "source": [
    "# pip install pandas numpy lets-plot numerize tqdm sqlalchemy jupysql"
   ]
  },
  {
   "cell_type": "code",
   "execution_count": 21,
   "metadata": {},
   "outputs": [
    {
     "data": {
      "text/html": [
       "\n",
       "            <div id=\"vyUSBS\"></div>\n",
       "            <script type=\"text/javascript\" data-lets-plot-script=\"library\">\n",
       "                if(!window.letsPlotCallQueue) {\n",
       "                    window.letsPlotCallQueue = [];\n",
       "                }; \n",
       "                window.letsPlotCall = function(f) {\n",
       "                    window.letsPlotCallQueue.push(f);\n",
       "                };\n",
       "                (function() {\n",
       "                    var script = document.createElement(\"script\");\n",
       "                    script.type = \"text/javascript\";\n",
       "                    script.src = \"https://cdn.jsdelivr.net/gh/JetBrains/lets-plot@v4.3.3/js-package/distr/lets-plot.min.js\";\n",
       "                    script.onload = function() {\n",
       "                        window.letsPlotCall = function(f) {f();};\n",
       "                        window.letsPlotCallQueue.forEach(function(f) {f();});\n",
       "                        window.letsPlotCallQueue = [];\n",
       "                        \n",
       "                    };\n",
       "                    script.onerror = function(event) {\n",
       "                        window.letsPlotCall = function(f) {};    // noop\n",
       "                        window.letsPlotCallQueue = [];\n",
       "                        var div = document.createElement(\"div\");\n",
       "                        div.style.color = 'darkred';\n",
       "                        div.textContent = 'Error loading Lets-Plot JS';\n",
       "                        document.getElementById(\"vyUSBS\").appendChild(div);\n",
       "                    };\n",
       "                    var e = document.getElementById(\"vyUSBS\");\n",
       "                    e.appendChild(script);\n",
       "                })()\n",
       "            </script>\n",
       "            "
      ]
     },
     "metadata": {},
     "output_type": "display_data"
    }
   ],
   "source": [
    "import kaggle\n",
    "import csv\n",
    "import os\n",
    "import json\n",
    "import numpy as np\n",
    "import pandas as pd\n",
    "import sqlite3\n",
    "\n",
    "from tqdm.notebook import tqdm, trange\n",
    "tqdm.pandas()\n",
    "from numerize import numerize as nz\n",
    "from lets_plot import *\n",
    "from lets_plot.mapping import *\n",
    "LetsPlot.setup_html()\n",
    "from dotenv import dotenv_values"
   ]
  },
  {
   "cell_type": "markdown",
   "metadata": {},
   "source": [
    "# Part II: Build Database"
   ]
  },
  {
   "cell_type": "markdown",
   "metadata": {},
   "source": [
    "## Reading `csv` file and do some data cleaning"
   ]
  },
  {
   "cell_type": "markdown",
   "metadata": {},
   "source": [
    "Before building database, we should first read our downloaded csv file to obtain our raw data."
   ]
  },
  {
   "cell_type": "code",
   "execution_count": 22,
   "metadata": {},
   "outputs": [],
   "source": [
    "df_baltimore = pd.read_csv('../data/raw/BPD_Part_1_Victim_Based_Crime_Data.csv')\n",
    "df_vancouver = pd.read_csv('../data/raw/crime.csv')"
   ]
  },
  {
   "cell_type": "markdown",
   "metadata": {},
   "source": [
    "After reading the raw data, the next step is to perform some data cleaning to make the two datasets comparable including:"
   ]
  },
  {
   "cell_type": "markdown",
   "metadata": {},
   "source": [
    "- Delete unnecessary columns in dataframe\n",
    "- Add column 'City' to distinguish two cities\n",
    "- Adjust the 'CrimeTime' column to make data store in the date format\n",
    "- Reclassify the crime types\n",
    "- Drop invalid and NA data "
   ]
  },
  {
   "cell_type": "code",
   "execution_count": 23,
   "metadata": {},
   "outputs": [],
   "source": [
    "df_baltimore=df_baltimore.drop(columns=['CrimeCode','Inside/Outside','Weapon','Post','District','Location 1','Premise','Total Incidents'])\n",
    "df_baltimore['CrimeDate'] = pd.to_datetime(df_baltimore['CrimeDate'])\n",
    "df_baltimore['City']='Baltimore'"
   ]
  },
  {
   "cell_type": "code",
   "execution_count": 24,
   "metadata": {},
   "outputs": [
    {
     "data": {
      "text/html": [
       "<div>\n",
       "<style scoped>\n",
       "    .dataframe tbody tr th:only-of-type {\n",
       "        vertical-align: middle;\n",
       "    }\n",
       "\n",
       "    .dataframe tbody tr th {\n",
       "        vertical-align: top;\n",
       "    }\n",
       "\n",
       "    .dataframe thead th {\n",
       "        text-align: right;\n",
       "    }\n",
       "</style>\n",
       "<table border=\"1\" class=\"dataframe\">\n",
       "  <thead>\n",
       "    <tr style=\"text-align: right;\">\n",
       "      <th></th>\n",
       "      <th>TYPE</th>\n",
       "      <th>HUNDRED_BLOCK</th>\n",
       "      <th>NEIGHBOURHOOD</th>\n",
       "      <th>Latitude</th>\n",
       "      <th>Longitude</th>\n",
       "      <th>CrimeDate</th>\n",
       "      <th>CrimeTime</th>\n",
       "      <th>City</th>\n",
       "    </tr>\n",
       "  </thead>\n",
       "  <tbody>\n",
       "    <tr>\n",
       "      <th>0</th>\n",
       "      <td>Other Theft</td>\n",
       "      <td>9XX TERMINAL AVE</td>\n",
       "      <td>Strathcona</td>\n",
       "      <td>49.269802</td>\n",
       "      <td>-123.083763</td>\n",
       "      <td>2003-05-12</td>\n",
       "      <td>16:15:00</td>\n",
       "      <td>Vancouver</td>\n",
       "    </tr>\n",
       "    <tr>\n",
       "      <th>1</th>\n",
       "      <td>Other Theft</td>\n",
       "      <td>9XX TERMINAL AVE</td>\n",
       "      <td>Strathcona</td>\n",
       "      <td>49.269802</td>\n",
       "      <td>-123.083763</td>\n",
       "      <td>2003-05-07</td>\n",
       "      <td>15:20:00</td>\n",
       "      <td>Vancouver</td>\n",
       "    </tr>\n",
       "    <tr>\n",
       "      <th>2</th>\n",
       "      <td>Other Theft</td>\n",
       "      <td>9XX TERMINAL AVE</td>\n",
       "      <td>Strathcona</td>\n",
       "      <td>49.269802</td>\n",
       "      <td>-123.083763</td>\n",
       "      <td>2003-04-23</td>\n",
       "      <td>16:40:00</td>\n",
       "      <td>Vancouver</td>\n",
       "    </tr>\n",
       "    <tr>\n",
       "      <th>3</th>\n",
       "      <td>Other Theft</td>\n",
       "      <td>9XX TERMINAL AVE</td>\n",
       "      <td>Strathcona</td>\n",
       "      <td>49.269802</td>\n",
       "      <td>-123.083763</td>\n",
       "      <td>2003-04-20</td>\n",
       "      <td>11:15:00</td>\n",
       "      <td>Vancouver</td>\n",
       "    </tr>\n",
       "    <tr>\n",
       "      <th>4</th>\n",
       "      <td>Other Theft</td>\n",
       "      <td>9XX TERMINAL AVE</td>\n",
       "      <td>Strathcona</td>\n",
       "      <td>49.269802</td>\n",
       "      <td>-123.083763</td>\n",
       "      <td>2003-04-12</td>\n",
       "      <td>17:45:00</td>\n",
       "      <td>Vancouver</td>\n",
       "    </tr>\n",
       "    <tr>\n",
       "      <th>...</th>\n",
       "      <td>...</td>\n",
       "      <td>...</td>\n",
       "      <td>...</td>\n",
       "      <td>...</td>\n",
       "      <td>...</td>\n",
       "      <td>...</td>\n",
       "      <td>...</td>\n",
       "      <td>...</td>\n",
       "    </tr>\n",
       "    <tr>\n",
       "      <th>530646</th>\n",
       "      <td>Mischief</td>\n",
       "      <td>14XX E HASTINGS ST</td>\n",
       "      <td>Grandview-Woodland</td>\n",
       "      <td>49.281276</td>\n",
       "      <td>-123.074746</td>\n",
       "      <td>2017-01-18</td>\n",
       "      <td>14:44:00</td>\n",
       "      <td>Vancouver</td>\n",
       "    </tr>\n",
       "    <tr>\n",
       "      <th>530647</th>\n",
       "      <td>Break and Enter Residential/Other</td>\n",
       "      <td>31XX ADANAC ST</td>\n",
       "      <td>Hastings-Sunrise</td>\n",
       "      <td>49.277420</td>\n",
       "      <td>-123.037595</td>\n",
       "      <td>2017-03-03</td>\n",
       "      <td>09:16:00</td>\n",
       "      <td>Vancouver</td>\n",
       "    </tr>\n",
       "    <tr>\n",
       "      <th>530648</th>\n",
       "      <td>Mischief</td>\n",
       "      <td>14XX E 7TH AVE</td>\n",
       "      <td>Grandview-Woodland</td>\n",
       "      <td>49.264163</td>\n",
       "      <td>-123.075129</td>\n",
       "      <td>2017-05-29</td>\n",
       "      <td>22:30:00</td>\n",
       "      <td>Vancouver</td>\n",
       "    </tr>\n",
       "    <tr>\n",
       "      <th>530650</th>\n",
       "      <td>Theft from Vehicle</td>\n",
       "      <td>8XX HAMILTON ST</td>\n",
       "      <td>Central Business District</td>\n",
       "      <td>49.278168</td>\n",
       "      <td>-123.117031</td>\n",
       "      <td>2017-06-05</td>\n",
       "      <td>17:00:00</td>\n",
       "      <td>Vancouver</td>\n",
       "    </tr>\n",
       "    <tr>\n",
       "      <th>530651</th>\n",
       "      <td>Vehicle Collision or Pedestrian Struck (with I...</td>\n",
       "      <td>13XX BLOCK PARK DR</td>\n",
       "      <td>Marpole</td>\n",
       "      <td>49.215706</td>\n",
       "      <td>-123.134512</td>\n",
       "      <td>2017-06-06</td>\n",
       "      <td>17:38:00</td>\n",
       "      <td>Vancouver</td>\n",
       "    </tr>\n",
       "  </tbody>\n",
       "</table>\n",
       "<p>476290 rows × 8 columns</p>\n",
       "</div>"
      ],
      "text/plain": [
       "                                                     TYPE       HUNDRED_BLOCK  \\\n",
       "0                                             Other Theft    9XX TERMINAL AVE   \n",
       "1                                             Other Theft    9XX TERMINAL AVE   \n",
       "2                                             Other Theft    9XX TERMINAL AVE   \n",
       "3                                             Other Theft    9XX TERMINAL AVE   \n",
       "4                                             Other Theft    9XX TERMINAL AVE   \n",
       "...                                                   ...                 ...   \n",
       "530646                                           Mischief  14XX E HASTINGS ST   \n",
       "530647                  Break and Enter Residential/Other      31XX ADANAC ST   \n",
       "530648                                           Mischief      14XX E 7TH AVE   \n",
       "530650                                 Theft from Vehicle     8XX HAMILTON ST   \n",
       "530651  Vehicle Collision or Pedestrian Struck (with I...  13XX BLOCK PARK DR   \n",
       "\n",
       "                    NEIGHBOURHOOD   Latitude   Longitude  CrimeDate CrimeTime  \\\n",
       "0                      Strathcona  49.269802 -123.083763 2003-05-12  16:15:00   \n",
       "1                      Strathcona  49.269802 -123.083763 2003-05-07  15:20:00   \n",
       "2                      Strathcona  49.269802 -123.083763 2003-04-23  16:40:00   \n",
       "3                      Strathcona  49.269802 -123.083763 2003-04-20  11:15:00   \n",
       "4                      Strathcona  49.269802 -123.083763 2003-04-12  17:45:00   \n",
       "...                           ...        ...         ...        ...       ...   \n",
       "530646         Grandview-Woodland  49.281276 -123.074746 2017-01-18  14:44:00   \n",
       "530647           Hastings-Sunrise  49.277420 -123.037595 2017-03-03  09:16:00   \n",
       "530648         Grandview-Woodland  49.264163 -123.075129 2017-05-29  22:30:00   \n",
       "530650  Central Business District  49.278168 -123.117031 2017-06-05  17:00:00   \n",
       "530651                    Marpole  49.215706 -123.134512 2017-06-06  17:38:00   \n",
       "\n",
       "             City  \n",
       "0       Vancouver  \n",
       "1       Vancouver  \n",
       "2       Vancouver  \n",
       "3       Vancouver  \n",
       "4       Vancouver  \n",
       "...           ...  \n",
       "530646  Vancouver  \n",
       "530647  Vancouver  \n",
       "530648  Vancouver  \n",
       "530650  Vancouver  \n",
       "530651  Vancouver  \n",
       "\n",
       "[476290 rows x 8 columns]"
      ]
     },
     "execution_count": 24,
     "metadata": {},
     "output_type": "execute_result"
    }
   ],
   "source": [
    "df_vancouver['CrimeDate'] = pd.to_datetime(df_vancouver['DAY'].astype(str) + '/' + df_vancouver['MONTH'].astype(str) + '/' + df_vancouver['YEAR'].astype(str), format='%d/%m/%Y')\n",
    "df_vancouver = df_vancouver.dropna(subset=['HOUR', 'MINUTE'])\n",
    "df_vancouver['HOUR'] = df_vancouver['HOUR'].astype(int).astype(str).str.zfill(2)\n",
    "df_vancouver['MINUTE'] = df_vancouver['MINUTE'].astype(int).astype(str).str.zfill(2)\n",
    "df_vancouver['CrimeTime'] = pd.to_datetime(df_vancouver['HOUR'] + ':' + df_vancouver['MINUTE'], format='%H:%M').dt.time\n",
    "df_vancouver=df_vancouver.drop(columns=['YEAR','MONTH','DAY','HOUR','MINUTE','X','Y'])\n",
    "df_vancouver['City']='Vancouver'\n",
    "df_vancouver\n"
   ]
  },
  {
   "cell_type": "code",
   "execution_count": 25,
   "metadata": {},
   "outputs": [
    {
     "name": "stdout",
     "output_type": "stream",
     "text": [
      "['CrimeDate', 'CrimeTime', 'Location', 'Description', 'Neighborhood', 'Longitude', 'Latitude', 'City']\n",
      "['TYPE', 'HUNDRED_BLOCK', 'NEIGHBOURHOOD', 'Latitude', 'Longitude', 'CrimeDate', 'CrimeTime', 'City']\n"
     ]
    }
   ],
   "source": [
    "print(df_baltimore.columns.tolist()) \n",
    "print(df_vancouver.columns.tolist())"
   ]
  },
  {
   "cell_type": "code",
   "execution_count": 26,
   "metadata": {},
   "outputs": [],
   "source": [
    "df_vancouver.rename(columns={'TYPE': 'Description', \n",
    "                    'HUNDRED_BLOCK': 'Location', \n",
    "                    'NEIGHBOURHOOD': 'Neighborhood'}, inplace=True)\n"
   ]
  },
  {
   "cell_type": "code",
   "execution_count": 27,
   "metadata": {},
   "outputs": [
    {
     "name": "stdout",
     "output_type": "stream",
     "text": [
      "Description\n",
      "LARCENY                 60528\n",
      "COMMON ASSAULT          45518\n",
      "BURGLARY                42538\n",
      "LARCENY FROM AUTO       36295\n",
      "AGG. ASSAULT            27513\n",
      "AUTO THEFT              26838\n",
      "ROBBERY - STREET        17691\n",
      "ROBBERY - COMMERCIAL     4141\n",
      "ASSAULT BY THREAT        3503\n",
      "SHOOTING                 2910\n",
      "ROBBERY - RESIDENCE      2866\n",
      "RAPE                     1637\n",
      "HOMICIDE                 1559\n",
      "ROBBERY - CARJACKING     1528\n",
      "ARSON                    1464\n",
      "Name: count, dtype: int64\n"
     ]
    }
   ],
   "source": [
    "value_counts = df_baltimore['Description'].value_counts()\n",
    "\n",
    "print(value_counts)"
   ]
  },
  {
   "cell_type": "code",
   "execution_count": 28,
   "metadata": {},
   "outputs": [
    {
     "name": "stdout",
     "output_type": "stream",
     "text": [
      "Description\n",
      "Theft from Vehicle                                        172700\n",
      "Mischief                                                   70413\n",
      "Break and Enter Residential/Other                          60862\n",
      "Other Theft                                                52167\n",
      "Theft of Vehicle                                           38418\n",
      "Break and Enter Commercial                                 33845\n",
      "Theft of Bicycle                                           25730\n",
      "Vehicle Collision or Pedestrian Struck (with Injury)       21901\n",
      "Vehicle Collision or Pedestrian Struck (with Fatality)       254\n",
      "Name: count, dtype: int64\n"
     ]
    }
   ],
   "source": [
    "value_counts = df_vancouver['Description'].value_counts()\n",
    "print(value_counts)"
   ]
  },
  {
   "cell_type": "code",
   "execution_count": 29,
   "metadata": {},
   "outputs": [],
   "source": [
    "df_merged = pd.concat([df_baltimore, df_vancouver], ignore_index=True)"
   ]
  },
  {
   "cell_type": "code",
   "execution_count": 30,
   "metadata": {},
   "outputs": [
    {
     "name": "stdout",
     "output_type": "stream",
     "text": [
      "Description\n",
      "Theft from Vehicle                                        172700\n",
      "Mischief                                                   70413\n",
      "Break and Enter Residential/Other                          60862\n",
      "LARCENY                                                    60528\n",
      "Other Theft                                                52167\n",
      "COMMON ASSAULT                                             45518\n",
      "BURGLARY                                                   42538\n",
      "Theft of Vehicle                                           38418\n",
      "LARCENY FROM AUTO                                          36295\n",
      "Break and Enter Commercial                                 33845\n",
      "AGG. ASSAULT                                               27513\n",
      "AUTO THEFT                                                 26838\n",
      "Theft of Bicycle                                           25730\n",
      "Vehicle Collision or Pedestrian Struck (with Injury)       21901\n",
      "ROBBERY - STREET                                           17691\n",
      "ROBBERY - COMMERCIAL                                        4141\n",
      "ASSAULT BY THREAT                                           3503\n",
      "SHOOTING                                                    2910\n",
      "ROBBERY - RESIDENCE                                         2866\n",
      "RAPE                                                        1637\n",
      "HOMICIDE                                                    1559\n",
      "ROBBERY - CARJACKING                                        1528\n",
      "ARSON                                                       1464\n",
      "Vehicle Collision or Pedestrian Struck (with Fatality)       254\n",
      "Name: count, dtype: int64\n"
     ]
    }
   ],
   "source": [
    "value_counts = df_merged['Description'].value_counts()\n",
    "\n",
    "print(value_counts)"
   ]
  },
  {
   "cell_type": "code",
   "execution_count": 31,
   "metadata": {},
   "outputs": [],
   "source": [
    "df_merged['Description'] = df_merged['Description'].replace({'Theft from Vehicle': 'Theft', \n",
    "                                                             'Mischief': 'Other',\n",
    "                                                             'Break and Enter Residential/Other': 'Burglary',\n",
    "                                                             'LARCENY': 'Theft',\n",
    "                                                             'Other Theft':'Theft',\n",
    "                                                             'COMMON ASSAULT': 'Assault',\n",
    "                                                             'BURGLARY': 'Burglary',\n",
    "                                                             'Theft of Vehicle': 'Theft',\n",
    "                                                             'LARCENY FROM AUTO': 'Theft',\n",
    "                                                             'Break and Enter Commercial': 'Burglary',\n",
    "                                                             'AGG. ASSAULT':'Assault',\n",
    "                                                             'AUTO THEFT': 'Theft',\n",
    "                                                             'Theft of Bicycle': 'Theft',\n",
    "                                                             'Vehicle Collision or Pedestrian Struck (with Injury)': 'Accident',\n",
    "                                                             'ROBBERY - STREET':'Robbery',\n",
    "                                                             'ROBBERY - COMMERCIAL':'Robbery',\n",
    "                                                             'ASSAULT BY THREAT':'Assault',\n",
    "                                                             'SHOOTING':'Homicide',\n",
    "                                                             'ROBBERY - RESIDENCE':'Burglary',\n",
    "                                                             'RAPE':'Sexual offense',\n",
    "                                                             'HOMICIDE':'Homicide',\n",
    "                                                             'ROBBERY - CARJACKING':'Robbery',\n",
    "                                                             'ARSON':'Other',\n",
    "                                                             'Vehicle Collision or Pedestrian Struck (with Fatality)': 'Accident'\n",
    "                                                             })"
   ]
  },
  {
   "cell_type": "code",
   "execution_count": 32,
   "metadata": {},
   "outputs": [],
   "source": [
    "invalid_rows = df_merged['Longitude'].apply(lambda x: -123.9 < x < -123.8 or -122.9 < x < -122.8 or x < -124.1)\n",
    "df = df_merged[~invalid_rows]"
   ]
  },
  {
   "cell_type": "markdown",
   "metadata": {},
   "source": [
    "Here is our final dataframe:"
   ]
  },
  {
   "cell_type": "code",
   "execution_count": 39,
   "metadata": {},
   "outputs": [
    {
     "data": {
      "text/html": [
       "<div>\n",
       "<style scoped>\n",
       "    .dataframe tbody tr th:only-of-type {\n",
       "        vertical-align: middle;\n",
       "    }\n",
       "\n",
       "    .dataframe tbody tr th {\n",
       "        vertical-align: top;\n",
       "    }\n",
       "\n",
       "    .dataframe thead th {\n",
       "        text-align: right;\n",
       "    }\n",
       "</style>\n",
       "<table border=\"1\" class=\"dataframe\">\n",
       "  <thead>\n",
       "    <tr style=\"text-align: right;\">\n",
       "      <th></th>\n",
       "      <th>CrimeDate</th>\n",
       "      <th>CrimeTime</th>\n",
       "      <th>Location</th>\n",
       "      <th>Description</th>\n",
       "      <th>Neighborhood</th>\n",
       "      <th>Longitude</th>\n",
       "      <th>Latitude</th>\n",
       "      <th>City</th>\n",
       "    </tr>\n",
       "  </thead>\n",
       "  <tbody>\n",
       "    <tr>\n",
       "      <th>0</th>\n",
       "      <td>2017-09-02</td>\n",
       "      <td>23:30:00</td>\n",
       "      <td>4200 AUDREY AVE</td>\n",
       "      <td>Burglary</td>\n",
       "      <td>Brooklyn</td>\n",
       "      <td>-76.605410</td>\n",
       "      <td>39.229510</td>\n",
       "      <td>Baltimore</td>\n",
       "    </tr>\n",
       "    <tr>\n",
       "      <th>1</th>\n",
       "      <td>2017-09-02</td>\n",
       "      <td>23:00:00</td>\n",
       "      <td>800 NEWINGTON AVE</td>\n",
       "      <td>Theft</td>\n",
       "      <td>Reservoir Hill</td>\n",
       "      <td>-76.632170</td>\n",
       "      <td>39.313600</td>\n",
       "      <td>Baltimore</td>\n",
       "    </tr>\n",
       "    <tr>\n",
       "      <th>2</th>\n",
       "      <td>2017-09-02</td>\n",
       "      <td>22:53:00</td>\n",
       "      <td>600 RADNOR AV</td>\n",
       "      <td>Homicide</td>\n",
       "      <td>Winston-Govans</td>\n",
       "      <td>-76.606970</td>\n",
       "      <td>39.347680</td>\n",
       "      <td>Baltimore</td>\n",
       "    </tr>\n",
       "    <tr>\n",
       "      <th>3</th>\n",
       "      <td>2017-09-02</td>\n",
       "      <td>22:50:00</td>\n",
       "      <td>1800 RAMSAY ST</td>\n",
       "      <td>Assault</td>\n",
       "      <td>Carrollton Ridge</td>\n",
       "      <td>-76.645260</td>\n",
       "      <td>39.283150</td>\n",
       "      <td>Baltimore</td>\n",
       "    </tr>\n",
       "    <tr>\n",
       "      <th>4</th>\n",
       "      <td>2017-09-02</td>\n",
       "      <td>22:31:00</td>\n",
       "      <td>100 LIGHT ST</td>\n",
       "      <td>Assault</td>\n",
       "      <td>Downtown West</td>\n",
       "      <td>-76.613650</td>\n",
       "      <td>39.287560</td>\n",
       "      <td>Baltimore</td>\n",
       "    </tr>\n",
       "    <tr>\n",
       "      <th>...</th>\n",
       "      <td>...</td>\n",
       "      <td>...</td>\n",
       "      <td>...</td>\n",
       "      <td>...</td>\n",
       "      <td>...</td>\n",
       "      <td>...</td>\n",
       "      <td>...</td>\n",
       "      <td>...</td>\n",
       "    </tr>\n",
       "    <tr>\n",
       "      <th>752814</th>\n",
       "      <td>2017-01-18</td>\n",
       "      <td>14:44:00</td>\n",
       "      <td>14XX E HASTINGS ST</td>\n",
       "      <td>Other</td>\n",
       "      <td>Grandview-Woodland</td>\n",
       "      <td>-123.074746</td>\n",
       "      <td>49.281276</td>\n",
       "      <td>Vancouver</td>\n",
       "    </tr>\n",
       "    <tr>\n",
       "      <th>752815</th>\n",
       "      <td>2017-03-03</td>\n",
       "      <td>09:16:00</td>\n",
       "      <td>31XX ADANAC ST</td>\n",
       "      <td>Burglary</td>\n",
       "      <td>Hastings-Sunrise</td>\n",
       "      <td>-123.037595</td>\n",
       "      <td>49.277420</td>\n",
       "      <td>Vancouver</td>\n",
       "    </tr>\n",
       "    <tr>\n",
       "      <th>752816</th>\n",
       "      <td>2017-05-29</td>\n",
       "      <td>22:30:00</td>\n",
       "      <td>14XX E 7TH AVE</td>\n",
       "      <td>Other</td>\n",
       "      <td>Grandview-Woodland</td>\n",
       "      <td>-123.075129</td>\n",
       "      <td>49.264163</td>\n",
       "      <td>Vancouver</td>\n",
       "    </tr>\n",
       "    <tr>\n",
       "      <th>752817</th>\n",
       "      <td>2017-06-05</td>\n",
       "      <td>17:00:00</td>\n",
       "      <td>8XX HAMILTON ST</td>\n",
       "      <td>Theft</td>\n",
       "      <td>Central Business District</td>\n",
       "      <td>-123.117031</td>\n",
       "      <td>49.278168</td>\n",
       "      <td>Vancouver</td>\n",
       "    </tr>\n",
       "    <tr>\n",
       "      <th>752818</th>\n",
       "      <td>2017-06-06</td>\n",
       "      <td>17:38:00</td>\n",
       "      <td>13XX BLOCK PARK DR</td>\n",
       "      <td>Accident</td>\n",
       "      <td>Marpole</td>\n",
       "      <td>-123.134512</td>\n",
       "      <td>49.215706</td>\n",
       "      <td>Vancouver</td>\n",
       "    </tr>\n",
       "  </tbody>\n",
       "</table>\n",
       "<p>752814 rows × 8 columns</p>\n",
       "</div>"
      ],
      "text/plain": [
       "        CrimeDate CrimeTime            Location Description  \\\n",
       "0      2017-09-02  23:30:00     4200 AUDREY AVE    Burglary   \n",
       "1      2017-09-02  23:00:00   800 NEWINGTON AVE       Theft   \n",
       "2      2017-09-02  22:53:00       600 RADNOR AV    Homicide   \n",
       "3      2017-09-02  22:50:00      1800 RAMSAY ST     Assault   \n",
       "4      2017-09-02  22:31:00        100 LIGHT ST     Assault   \n",
       "...           ...       ...                 ...         ...   \n",
       "752814 2017-01-18  14:44:00  14XX E HASTINGS ST       Other   \n",
       "752815 2017-03-03  09:16:00      31XX ADANAC ST    Burglary   \n",
       "752816 2017-05-29  22:30:00      14XX E 7TH AVE       Other   \n",
       "752817 2017-06-05  17:00:00     8XX HAMILTON ST       Theft   \n",
       "752818 2017-06-06  17:38:00  13XX BLOCK PARK DR    Accident   \n",
       "\n",
       "                     Neighborhood   Longitude   Latitude       City  \n",
       "0                        Brooklyn  -76.605410  39.229510  Baltimore  \n",
       "1                  Reservoir Hill  -76.632170  39.313600  Baltimore  \n",
       "2                  Winston-Govans  -76.606970  39.347680  Baltimore  \n",
       "3                Carrollton Ridge  -76.645260  39.283150  Baltimore  \n",
       "4                   Downtown West  -76.613650  39.287560  Baltimore  \n",
       "...                           ...         ...        ...        ...  \n",
       "752814         Grandview-Woodland -123.074746  49.281276  Vancouver  \n",
       "752815           Hastings-Sunrise -123.037595  49.277420  Vancouver  \n",
       "752816         Grandview-Woodland -123.075129  49.264163  Vancouver  \n",
       "752817  Central Business District -123.117031  49.278168  Vancouver  \n",
       "752818                    Marpole -123.134512  49.215706  Vancouver  \n",
       "\n",
       "[752814 rows x 8 columns]"
      ]
     },
     "execution_count": 39,
     "metadata": {},
     "output_type": "execute_result"
    }
   ],
   "source": [
    "df"
   ]
  },
  {
   "cell_type": "code",
   "execution_count": 34,
   "metadata": {},
   "outputs": [
    {
     "name": "stdout",
     "output_type": "stream",
     "text": [
      "<class 'pandas.core.frame.DataFrame'>\n",
      "Index: 752814 entries, 0 to 752818\n",
      "Data columns (total 8 columns):\n",
      " #   Column        Non-Null Count   Dtype         \n",
      "---  ------        --------------   -----         \n",
      " 0   CrimeDate     752814 non-null  datetime64[ns]\n",
      " 1   CrimeTime     752814 non-null  object        \n",
      " 2   Location      750594 non-null  object        \n",
      " 3   Description   752814 non-null  object        \n",
      " 4   Neighborhood  747817 non-null  object        \n",
      " 5   Longitude     750610 non-null  float64       \n",
      " 6   Latitude      750610 non-null  float64       \n",
      " 7   City          752814 non-null  object        \n",
      "dtypes: datetime64[ns](1), float64(2), object(5)\n",
      "memory usage: 51.7+ MB\n"
     ]
    }
   ],
   "source": [
    "df.info()"
   ]
  },
  {
   "cell_type": "markdown",
   "metadata": {},
   "source": [
    "## Build the database"
   ]
  },
  {
   "cell_type": "markdown",
   "metadata": {},
   "source": [
    "After getting the clean data, what we need to do is to build a database and create one table named `crime_listing`, and store all our data into that table."
   ]
  },
  {
   "cell_type": "code",
   "execution_count": 35,
   "metadata": {},
   "outputs": [],
   "source": [
    "DATA_FOLDER = os.path.join('../data/clean')"
   ]
  },
  {
   "cell_type": "code",
   "execution_count": 36,
   "metadata": {},
   "outputs": [],
   "source": [
    "# Create a SQLite database in the ../data/clean/crime.db\n",
    "conn = sqlite3.connect(os.path.join(DATA_FOLDER, './crime.db'))"
   ]
  },
  {
   "cell_type": "code",
   "execution_count": 43,
   "metadata": {},
   "outputs": [
    {
     "data": {
      "text/plain": [
       "<sqlite3.Cursor at 0x21d517586c0>"
      ]
     },
     "execution_count": 43,
     "metadata": {},
     "output_type": "execute_result"
    }
   ],
   "source": [
    "# Create our table based on the crime data we have\n",
    "\n",
    "conn.execute('''\n",
    "CREATE TABLE IF NOT EXISTS crime_listing (\n",
    "    id INTEGER TEXT PRIMARY KEY,\n",
    "    CrimeDate DATETIME,\n",
    "    CrimeTime DATETIME,\n",
    "    Location TEXT,\n",
    "    Description TEXT,\n",
    "    Neighborhood TEXT,\n",
    "    Longitude REAL,\n",
    "    Latitude REAL,\n",
    "    City TEXT\n",
    ")\n",
    "''')\n"
   ]
  },
  {
   "cell_type": "code",
   "execution_count": 44,
   "metadata": {},
   "outputs": [
    {
     "ename": "IntegrityError",
     "evalue": "UNIQUE constraint failed: crime_listing.Neighborhood",
     "output_type": "error",
     "traceback": [
      "\u001b[1;31m---------------------------------------------------------------------------\u001b[0m",
      "\u001b[1;31mIntegrityError\u001b[0m                            Traceback (most recent call last)",
      "Cell \u001b[1;32mIn[44], line 1\u001b[0m\n\u001b[1;32m----> 1\u001b[0m df\u001b[38;5;241m.\u001b[39mto_sql(name\u001b[38;5;241m=\u001b[39m\u001b[38;5;124m'\u001b[39m\u001b[38;5;124mcrime_listing\u001b[39m\u001b[38;5;124m'\u001b[39m, con\u001b[38;5;241m=\u001b[39mconn, if_exists\u001b[38;5;241m=\u001b[39m\u001b[38;5;124m'\u001b[39m\u001b[38;5;124mappend\u001b[39m\u001b[38;5;124m'\u001b[39m, index\u001b[38;5;241m=\u001b[39m\u001b[38;5;28;01mFalse\u001b[39;00m)\n",
      "File \u001b[1;32mc:\\Users\\celty\\anaconda3\\Lib\\site-packages\\pandas\\util\\_decorators.py:333\u001b[0m, in \u001b[0;36mdeprecate_nonkeyword_arguments.<locals>.decorate.<locals>.wrapper\u001b[1;34m(*args, **kwargs)\u001b[0m\n\u001b[0;32m    327\u001b[0m \u001b[38;5;28;01mif\u001b[39;00m \u001b[38;5;28mlen\u001b[39m(args) \u001b[38;5;241m>\u001b[39m num_allow_args:\n\u001b[0;32m    328\u001b[0m     warnings\u001b[38;5;241m.\u001b[39mwarn(\n\u001b[0;32m    329\u001b[0m         msg\u001b[38;5;241m.\u001b[39mformat(arguments\u001b[38;5;241m=\u001b[39m_format_argument_list(allow_args)),\n\u001b[0;32m    330\u001b[0m         \u001b[38;5;167;01mFutureWarning\u001b[39;00m,\n\u001b[0;32m    331\u001b[0m         stacklevel\u001b[38;5;241m=\u001b[39mfind_stack_level(),\n\u001b[0;32m    332\u001b[0m     )\n\u001b[1;32m--> 333\u001b[0m \u001b[38;5;28;01mreturn\u001b[39;00m func(\u001b[38;5;241m*\u001b[39margs, \u001b[38;5;241m*\u001b[39m\u001b[38;5;241m*\u001b[39mkwargs)\n",
      "File \u001b[1;32mc:\\Users\\celty\\anaconda3\\Lib\\site-packages\\pandas\\core\\generic.py:3008\u001b[0m, in \u001b[0;36mNDFrame.to_sql\u001b[1;34m(self, name, con, schema, if_exists, index, index_label, chunksize, dtype, method)\u001b[0m\n\u001b[0;32m   2813\u001b[0m \u001b[38;5;250m\u001b[39m\u001b[38;5;124;03m\"\"\"\u001b[39;00m\n\u001b[0;32m   2814\u001b[0m \u001b[38;5;124;03mWrite records stored in a DataFrame to a SQL database.\u001b[39;00m\n\u001b[0;32m   2815\u001b[0m \n\u001b[1;32m   (...)\u001b[0m\n\u001b[0;32m   3004\u001b[0m \u001b[38;5;124;03m[(1,), (None,), (2,)]\u001b[39;00m\n\u001b[0;32m   3005\u001b[0m \u001b[38;5;124;03m\"\"\"\u001b[39;00m  \u001b[38;5;66;03m# noqa: E501\u001b[39;00m\n\u001b[0;32m   3006\u001b[0m \u001b[38;5;28;01mfrom\u001b[39;00m \u001b[38;5;21;01mpandas\u001b[39;00m\u001b[38;5;21;01m.\u001b[39;00m\u001b[38;5;21;01mio\u001b[39;00m \u001b[38;5;28;01mimport\u001b[39;00m sql\n\u001b[1;32m-> 3008\u001b[0m \u001b[38;5;28;01mreturn\u001b[39;00m sql\u001b[38;5;241m.\u001b[39mto_sql(\n\u001b[0;32m   3009\u001b[0m     \u001b[38;5;28mself\u001b[39m,\n\u001b[0;32m   3010\u001b[0m     name,\n\u001b[0;32m   3011\u001b[0m     con,\n\u001b[0;32m   3012\u001b[0m     schema\u001b[38;5;241m=\u001b[39mschema,\n\u001b[0;32m   3013\u001b[0m     if_exists\u001b[38;5;241m=\u001b[39mif_exists,\n\u001b[0;32m   3014\u001b[0m     index\u001b[38;5;241m=\u001b[39mindex,\n\u001b[0;32m   3015\u001b[0m     index_label\u001b[38;5;241m=\u001b[39mindex_label,\n\u001b[0;32m   3016\u001b[0m     chunksize\u001b[38;5;241m=\u001b[39mchunksize,\n\u001b[0;32m   3017\u001b[0m     dtype\u001b[38;5;241m=\u001b[39mdtype,\n\u001b[0;32m   3018\u001b[0m     method\u001b[38;5;241m=\u001b[39mmethod,\n\u001b[0;32m   3019\u001b[0m )\n",
      "File \u001b[1;32mc:\\Users\\celty\\anaconda3\\Lib\\site-packages\\pandas\\io\\sql.py:788\u001b[0m, in \u001b[0;36mto_sql\u001b[1;34m(frame, name, con, schema, if_exists, index, index_label, chunksize, dtype, method, engine, **engine_kwargs)\u001b[0m\n\u001b[0;32m    783\u001b[0m     \u001b[38;5;28;01mraise\u001b[39;00m \u001b[38;5;167;01mNotImplementedError\u001b[39;00m(\n\u001b[0;32m    784\u001b[0m         \u001b[38;5;124m\"\u001b[39m\u001b[38;5;124m'\u001b[39m\u001b[38;5;124mframe\u001b[39m\u001b[38;5;124m'\u001b[39m\u001b[38;5;124m argument should be either a Series or a DataFrame\u001b[39m\u001b[38;5;124m\"\u001b[39m\n\u001b[0;32m    785\u001b[0m     )\n\u001b[0;32m    787\u001b[0m \u001b[38;5;28;01mwith\u001b[39;00m pandasSQL_builder(con, schema\u001b[38;5;241m=\u001b[39mschema, need_transaction\u001b[38;5;241m=\u001b[39m\u001b[38;5;28;01mTrue\u001b[39;00m) \u001b[38;5;28;01mas\u001b[39;00m pandas_sql:\n\u001b[1;32m--> 788\u001b[0m     \u001b[38;5;28;01mreturn\u001b[39;00m pandas_sql\u001b[38;5;241m.\u001b[39mto_sql(\n\u001b[0;32m    789\u001b[0m         frame,\n\u001b[0;32m    790\u001b[0m         name,\n\u001b[0;32m    791\u001b[0m         if_exists\u001b[38;5;241m=\u001b[39mif_exists,\n\u001b[0;32m    792\u001b[0m         index\u001b[38;5;241m=\u001b[39mindex,\n\u001b[0;32m    793\u001b[0m         index_label\u001b[38;5;241m=\u001b[39mindex_label,\n\u001b[0;32m    794\u001b[0m         schema\u001b[38;5;241m=\u001b[39mschema,\n\u001b[0;32m    795\u001b[0m         chunksize\u001b[38;5;241m=\u001b[39mchunksize,\n\u001b[0;32m    796\u001b[0m         dtype\u001b[38;5;241m=\u001b[39mdtype,\n\u001b[0;32m    797\u001b[0m         method\u001b[38;5;241m=\u001b[39mmethod,\n\u001b[0;32m    798\u001b[0m         engine\u001b[38;5;241m=\u001b[39mengine,\n\u001b[0;32m    799\u001b[0m         \u001b[38;5;241m*\u001b[39m\u001b[38;5;241m*\u001b[39mengine_kwargs,\n\u001b[0;32m    800\u001b[0m     )\n",
      "File \u001b[1;32mc:\\Users\\celty\\anaconda3\\Lib\\site-packages\\pandas\\io\\sql.py:2439\u001b[0m, in \u001b[0;36mSQLiteDatabase.to_sql\u001b[1;34m(self, frame, name, if_exists, index, index_label, schema, chunksize, dtype, method, engine, **engine_kwargs)\u001b[0m\n\u001b[0;32m   2429\u001b[0m table \u001b[38;5;241m=\u001b[39m SQLiteTable(\n\u001b[0;32m   2430\u001b[0m     name,\n\u001b[0;32m   2431\u001b[0m     \u001b[38;5;28mself\u001b[39m,\n\u001b[1;32m   (...)\u001b[0m\n\u001b[0;32m   2436\u001b[0m     dtype\u001b[38;5;241m=\u001b[39mdtype,\n\u001b[0;32m   2437\u001b[0m )\n\u001b[0;32m   2438\u001b[0m table\u001b[38;5;241m.\u001b[39mcreate()\n\u001b[1;32m-> 2439\u001b[0m \u001b[38;5;28;01mreturn\u001b[39;00m table\u001b[38;5;241m.\u001b[39minsert(chunksize, method)\n",
      "File \u001b[1;32mc:\\Users\\celty\\anaconda3\\Lib\\site-packages\\pandas\\io\\sql.py:1059\u001b[0m, in \u001b[0;36mSQLTable.insert\u001b[1;34m(self, chunksize, method)\u001b[0m\n\u001b[0;32m   1056\u001b[0m     \u001b[38;5;28;01mbreak\u001b[39;00m\n\u001b[0;32m   1058\u001b[0m chunk_iter \u001b[38;5;241m=\u001b[39m \u001b[38;5;28mzip\u001b[39m(\u001b[38;5;241m*\u001b[39m(arr[start_i:end_i] \u001b[38;5;28;01mfor\u001b[39;00m arr \u001b[38;5;129;01min\u001b[39;00m data_list))\n\u001b[1;32m-> 1059\u001b[0m num_inserted \u001b[38;5;241m=\u001b[39m exec_insert(conn, keys, chunk_iter)\n\u001b[0;32m   1060\u001b[0m \u001b[38;5;66;03m# GH 46891\u001b[39;00m\n\u001b[0;32m   1061\u001b[0m \u001b[38;5;28;01mif\u001b[39;00m num_inserted \u001b[38;5;129;01mis\u001b[39;00m \u001b[38;5;129;01mnot\u001b[39;00m \u001b[38;5;28;01mNone\u001b[39;00m:\n",
      "File \u001b[1;32mc:\\Users\\celty\\anaconda3\\Lib\\site-packages\\pandas\\io\\sql.py:2135\u001b[0m, in \u001b[0;36mSQLiteTable._execute_insert\u001b[1;34m(self, conn, keys, data_iter)\u001b[0m\n\u001b[0;32m   2133\u001b[0m \u001b[38;5;28;01mdef\u001b[39;00m \u001b[38;5;21m_execute_insert\u001b[39m(\u001b[38;5;28mself\u001b[39m, conn, keys, data_iter) \u001b[38;5;241m-\u001b[39m\u001b[38;5;241m>\u001b[39m \u001b[38;5;28mint\u001b[39m:\n\u001b[0;32m   2134\u001b[0m     data_list \u001b[38;5;241m=\u001b[39m \u001b[38;5;28mlist\u001b[39m(data_iter)\n\u001b[1;32m-> 2135\u001b[0m     conn\u001b[38;5;241m.\u001b[39mexecutemany(\u001b[38;5;28mself\u001b[39m\u001b[38;5;241m.\u001b[39minsert_statement(num_rows\u001b[38;5;241m=\u001b[39m\u001b[38;5;241m1\u001b[39m), data_list)\n\u001b[0;32m   2136\u001b[0m     \u001b[38;5;28;01mreturn\u001b[39;00m conn\u001b[38;5;241m.\u001b[39mrowcount\n",
      "\u001b[1;31mIntegrityError\u001b[0m: UNIQUE constraint failed: crime_listing.Neighborhood"
     ]
    }
   ],
   "source": [
    "df.to_sql(name='crime_listing', con=conn, if_exists='append', index=False)"
   ]
  },
  {
   "cell_type": "code",
   "execution_count": null,
   "metadata": {},
   "outputs": [],
   "source": [
    "!pip freeze > requirement.txt"
   ]
  }
 ],
 "metadata": {
  "kernelspec": {
   "display_name": "base",
   "language": "python",
   "name": "python3"
  },
  "language_info": {
   "codemirror_mode": {
    "name": "ipython",
    "version": 3
   },
   "file_extension": ".py",
   "mimetype": "text/x-python",
   "name": "python",
   "nbconvert_exporter": "python",
   "pygments_lexer": "ipython3",
   "version": "3.11.7"
  }
 },
 "nbformat": 4,
 "nbformat_minor": 2
}
