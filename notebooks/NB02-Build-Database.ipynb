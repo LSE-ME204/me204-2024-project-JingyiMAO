{
 "cells": [
  {
   "cell_type": "code",
   "execution_count": 1,
   "metadata": {},
   "outputs": [],
   "source": [
    "# pip install pandas numpy lets-plot numerize tqdm sqlalchemy jupysql"
   ]
  },
  {
   "cell_type": "code",
   "execution_count": 2,
   "metadata": {},
   "outputs": [
    {
     "data": {
      "text/html": [
       "\n",
       "            <div id=\"lrlp8C\"></div>\n",
       "            <script type=\"text/javascript\" data-lets-plot-script=\"library\">\n",
       "                if(!window.letsPlotCallQueue) {\n",
       "                    window.letsPlotCallQueue = [];\n",
       "                }; \n",
       "                window.letsPlotCall = function(f) {\n",
       "                    window.letsPlotCallQueue.push(f);\n",
       "                };\n",
       "                (function() {\n",
       "                    var script = document.createElement(\"script\");\n",
       "                    script.type = \"text/javascript\";\n",
       "                    script.src = \"https://cdn.jsdelivr.net/gh/JetBrains/lets-plot@v4.3.3/js-package/distr/lets-plot.min.js\";\n",
       "                    script.onload = function() {\n",
       "                        window.letsPlotCall = function(f) {f();};\n",
       "                        window.letsPlotCallQueue.forEach(function(f) {f();});\n",
       "                        window.letsPlotCallQueue = [];\n",
       "                        \n",
       "                    };\n",
       "                    script.onerror = function(event) {\n",
       "                        window.letsPlotCall = function(f) {};    // noop\n",
       "                        window.letsPlotCallQueue = [];\n",
       "                        var div = document.createElement(\"div\");\n",
       "                        div.style.color = 'darkred';\n",
       "                        div.textContent = 'Error loading Lets-Plot JS';\n",
       "                        document.getElementById(\"lrlp8C\").appendChild(div);\n",
       "                    };\n",
       "                    var e = document.getElementById(\"lrlp8C\");\n",
       "                    e.appendChild(script);\n",
       "                })()\n",
       "            </script>\n",
       "            "
      ]
     },
     "metadata": {},
     "output_type": "display_data"
    }
   ],
   "source": [
    "import kaggle\n",
    "import csv\n",
    "import os\n",
    "import json\n",
    "import numpy as np\n",
    "import pandas as pd\n",
    "import sqlite3\n",
    "\n",
    "from tqdm.notebook import tqdm, trange\n",
    "tqdm.pandas()\n",
    "from numerize import numerize as nz\n",
    "from lets_plot import *\n",
    "from lets_plot.mapping import *\n",
    "LetsPlot.setup_html()\n",
    "from dotenv import dotenv_values"
   ]
  },
  {
   "cell_type": "markdown",
   "metadata": {},
   "source": [
    "# Part II: Build Database"
   ]
  },
  {
   "cell_type": "markdown",
   "metadata": {},
   "source": [
    "## Reading `csv` file and do some data cleaning"
   ]
  },
  {
   "cell_type": "markdown",
   "metadata": {},
   "source": [
    "Before building database, we should first read our downloaded csv file to obtain our raw data."
   ]
  },
  {
   "cell_type": "code",
   "execution_count": 3,
   "metadata": {},
   "outputs": [],
   "source": [
    "df_baltimore = pd.read_csv('../data/raw/BPD_Part_1_Victim_Based_Crime_Data.csv')\n",
    "df_vancouver = pd.read_csv('../data/raw/crime.csv')"
   ]
  },
  {
   "cell_type": "markdown",
   "metadata": {},
   "source": [
    "After reading the raw data, the next step is to perform some data cleaning to make the two datasets comparable including:"
   ]
  },
  {
   "cell_type": "markdown",
   "metadata": {},
   "source": [
    "- Delete unnecessary columns in dataframe\n",
    "- Add column 'City' to distinguish two cities\n",
    "- Adjust the 'CrimeTime' column to make data store in the date format\n",
    "- Reclassify the crime types\n",
    "- Drop invalid and NA data "
   ]
  },
  {
   "cell_type": "code",
   "execution_count": 4,
   "metadata": {},
   "outputs": [
    {
     "data": {
      "text/html": [
       "<div>\n",
       "<style scoped>\n",
       "    .dataframe tbody tr th:only-of-type {\n",
       "        vertical-align: middle;\n",
       "    }\n",
       "\n",
       "    .dataframe tbody tr th {\n",
       "        vertical-align: top;\n",
       "    }\n",
       "\n",
       "    .dataframe thead th {\n",
       "        text-align: right;\n",
       "    }\n",
       "</style>\n",
       "<table border=\"1\" class=\"dataframe\">\n",
       "  <thead>\n",
       "    <tr style=\"text-align: right;\">\n",
       "      <th></th>\n",
       "      <th>CrimeDate</th>\n",
       "      <th>CrimeTime</th>\n",
       "      <th>Location</th>\n",
       "      <th>Description</th>\n",
       "      <th>Neighborhood</th>\n",
       "      <th>Longitude</th>\n",
       "      <th>Latitude</th>\n",
       "      <th>City</th>\n",
       "    </tr>\n",
       "  </thead>\n",
       "  <tbody>\n",
       "    <tr>\n",
       "      <th>0</th>\n",
       "      <td>2017-09-02</td>\n",
       "      <td>23:30:00</td>\n",
       "      <td>4200 AUDREY AVE</td>\n",
       "      <td>ROBBERY - RESIDENCE</td>\n",
       "      <td>Brooklyn</td>\n",
       "      <td>-76.60541</td>\n",
       "      <td>39.22951</td>\n",
       "      <td>Baltimore</td>\n",
       "    </tr>\n",
       "    <tr>\n",
       "      <th>1</th>\n",
       "      <td>2017-09-02</td>\n",
       "      <td>23:00:00</td>\n",
       "      <td>800 NEWINGTON AVE</td>\n",
       "      <td>AUTO THEFT</td>\n",
       "      <td>Reservoir Hill</td>\n",
       "      <td>-76.63217</td>\n",
       "      <td>39.31360</td>\n",
       "      <td>Baltimore</td>\n",
       "    </tr>\n",
       "    <tr>\n",
       "      <th>2</th>\n",
       "      <td>2017-09-02</td>\n",
       "      <td>22:53:00</td>\n",
       "      <td>600 RADNOR AV</td>\n",
       "      <td>SHOOTING</td>\n",
       "      <td>Winston-Govans</td>\n",
       "      <td>-76.60697</td>\n",
       "      <td>39.34768</td>\n",
       "      <td>Baltimore</td>\n",
       "    </tr>\n",
       "    <tr>\n",
       "      <th>3</th>\n",
       "      <td>2017-09-02</td>\n",
       "      <td>22:50:00</td>\n",
       "      <td>1800 RAMSAY ST</td>\n",
       "      <td>AGG. ASSAULT</td>\n",
       "      <td>Carrollton Ridge</td>\n",
       "      <td>-76.64526</td>\n",
       "      <td>39.28315</td>\n",
       "      <td>Baltimore</td>\n",
       "    </tr>\n",
       "    <tr>\n",
       "      <th>4</th>\n",
       "      <td>2017-09-02</td>\n",
       "      <td>22:31:00</td>\n",
       "      <td>100 LIGHT ST</td>\n",
       "      <td>COMMON ASSAULT</td>\n",
       "      <td>Downtown West</td>\n",
       "      <td>-76.61365</td>\n",
       "      <td>39.28756</td>\n",
       "      <td>Baltimore</td>\n",
       "    </tr>\n",
       "    <tr>\n",
       "      <th>...</th>\n",
       "      <td>...</td>\n",
       "      <td>...</td>\n",
       "      <td>...</td>\n",
       "      <td>...</td>\n",
       "      <td>...</td>\n",
       "      <td>...</td>\n",
       "      <td>...</td>\n",
       "      <td>...</td>\n",
       "    </tr>\n",
       "    <tr>\n",
       "      <th>276524</th>\n",
       "      <td>2012-01-01</td>\n",
       "      <td>00:00:00</td>\n",
       "      <td>1400 JOH AVE</td>\n",
       "      <td>LARCENY</td>\n",
       "      <td>Violetville</td>\n",
       "      <td>-76.67195</td>\n",
       "      <td>39.26132</td>\n",
       "      <td>Baltimore</td>\n",
       "    </tr>\n",
       "    <tr>\n",
       "      <th>276525</th>\n",
       "      <td>2012-01-01</td>\n",
       "      <td>00:00:00</td>\n",
       "      <td>5500 SINCLAIR LN</td>\n",
       "      <td>LARCENY</td>\n",
       "      <td>Frankford</td>\n",
       "      <td>-76.53829</td>\n",
       "      <td>39.32493</td>\n",
       "      <td>Baltimore</td>\n",
       "    </tr>\n",
       "    <tr>\n",
       "      <th>276526</th>\n",
       "      <td>2012-01-01</td>\n",
       "      <td>00:00:00</td>\n",
       "      <td>400 N PATTERSON PK AV</td>\n",
       "      <td>LARCENY</td>\n",
       "      <td>CARE</td>\n",
       "      <td>-76.58497</td>\n",
       "      <td>39.29573</td>\n",
       "      <td>Baltimore</td>\n",
       "    </tr>\n",
       "    <tr>\n",
       "      <th>276527</th>\n",
       "      <td>2012-01-01</td>\n",
       "      <td>00:00:00</td>\n",
       "      <td>5800 LILLYAN AV</td>\n",
       "      <td>BURGLARY</td>\n",
       "      <td>Glenham-Belhar</td>\n",
       "      <td>-76.54578</td>\n",
       "      <td>39.34701</td>\n",
       "      <td>Baltimore</td>\n",
       "    </tr>\n",
       "    <tr>\n",
       "      <th>276528</th>\n",
       "      <td>2012-01-01</td>\n",
       "      <td>00:00:00</td>\n",
       "      <td>1900 GRINNALDS AV</td>\n",
       "      <td>BURGLARY</td>\n",
       "      <td>Morrell Park</td>\n",
       "      <td>-76.65094</td>\n",
       "      <td>39.26698</td>\n",
       "      <td>Baltimore</td>\n",
       "    </tr>\n",
       "  </tbody>\n",
       "</table>\n",
       "<p>276529 rows × 8 columns</p>\n",
       "</div>"
      ],
      "text/plain": [
       "        CrimeDate CrimeTime               Location          Description  \\\n",
       "0      2017-09-02  23:30:00        4200 AUDREY AVE  ROBBERY - RESIDENCE   \n",
       "1      2017-09-02  23:00:00      800 NEWINGTON AVE           AUTO THEFT   \n",
       "2      2017-09-02  22:53:00          600 RADNOR AV             SHOOTING   \n",
       "3      2017-09-02  22:50:00         1800 RAMSAY ST         AGG. ASSAULT   \n",
       "4      2017-09-02  22:31:00           100 LIGHT ST       COMMON ASSAULT   \n",
       "...           ...       ...                    ...                  ...   \n",
       "276524 2012-01-01  00:00:00           1400 JOH AVE              LARCENY   \n",
       "276525 2012-01-01  00:00:00       5500 SINCLAIR LN              LARCENY   \n",
       "276526 2012-01-01  00:00:00  400 N PATTERSON PK AV              LARCENY   \n",
       "276527 2012-01-01  00:00:00        5800 LILLYAN AV             BURGLARY   \n",
       "276528 2012-01-01  00:00:00      1900 GRINNALDS AV             BURGLARY   \n",
       "\n",
       "            Neighborhood  Longitude  Latitude       City  \n",
       "0               Brooklyn  -76.60541  39.22951  Baltimore  \n",
       "1         Reservoir Hill  -76.63217  39.31360  Baltimore  \n",
       "2         Winston-Govans  -76.60697  39.34768  Baltimore  \n",
       "3       Carrollton Ridge  -76.64526  39.28315  Baltimore  \n",
       "4          Downtown West  -76.61365  39.28756  Baltimore  \n",
       "...                  ...        ...       ...        ...  \n",
       "276524       Violetville  -76.67195  39.26132  Baltimore  \n",
       "276525         Frankford  -76.53829  39.32493  Baltimore  \n",
       "276526              CARE  -76.58497  39.29573  Baltimore  \n",
       "276527    Glenham-Belhar  -76.54578  39.34701  Baltimore  \n",
       "276528      Morrell Park  -76.65094  39.26698  Baltimore  \n",
       "\n",
       "[276529 rows x 8 columns]"
      ]
     },
     "execution_count": 4,
     "metadata": {},
     "output_type": "execute_result"
    }
   ],
   "source": [
    "df_baltimore=df_baltimore.drop(columns=['CrimeCode','Inside/Outside','Weapon','Post','District','Location 1','Premise','Total Incidents'])\n",
    "df_baltimore['CrimeDate'] = pd.to_datetime(df_baltimore['CrimeDate'])\n",
    "df_baltimore['City']='Baltimore'\n",
    "df_baltimore"
   ]
  },
  {
   "cell_type": "code",
   "execution_count": 5,
   "metadata": {},
   "outputs": [
    {
     "data": {
      "text/html": [
       "<div>\n",
       "<style scoped>\n",
       "    .dataframe tbody tr th:only-of-type {\n",
       "        vertical-align: middle;\n",
       "    }\n",
       "\n",
       "    .dataframe tbody tr th {\n",
       "        vertical-align: top;\n",
       "    }\n",
       "\n",
       "    .dataframe thead th {\n",
       "        text-align: right;\n",
       "    }\n",
       "</style>\n",
       "<table border=\"1\" class=\"dataframe\">\n",
       "  <thead>\n",
       "    <tr style=\"text-align: right;\">\n",
       "      <th></th>\n",
       "      <th>TYPE</th>\n",
       "      <th>HUNDRED_BLOCK</th>\n",
       "      <th>NEIGHBOURHOOD</th>\n",
       "      <th>Latitude</th>\n",
       "      <th>Longitude</th>\n",
       "      <th>CrimeDate</th>\n",
       "      <th>CrimeTime</th>\n",
       "      <th>City</th>\n",
       "    </tr>\n",
       "  </thead>\n",
       "  <tbody>\n",
       "    <tr>\n",
       "      <th>0</th>\n",
       "      <td>Other Theft</td>\n",
       "      <td>9XX TERMINAL AVE</td>\n",
       "      <td>Strathcona</td>\n",
       "      <td>49.269802</td>\n",
       "      <td>-123.083763</td>\n",
       "      <td>2003-05-12</td>\n",
       "      <td>16:15:00</td>\n",
       "      <td>Vancouver</td>\n",
       "    </tr>\n",
       "    <tr>\n",
       "      <th>1</th>\n",
       "      <td>Other Theft</td>\n",
       "      <td>9XX TERMINAL AVE</td>\n",
       "      <td>Strathcona</td>\n",
       "      <td>49.269802</td>\n",
       "      <td>-123.083763</td>\n",
       "      <td>2003-05-07</td>\n",
       "      <td>15:20:00</td>\n",
       "      <td>Vancouver</td>\n",
       "    </tr>\n",
       "    <tr>\n",
       "      <th>2</th>\n",
       "      <td>Other Theft</td>\n",
       "      <td>9XX TERMINAL AVE</td>\n",
       "      <td>Strathcona</td>\n",
       "      <td>49.269802</td>\n",
       "      <td>-123.083763</td>\n",
       "      <td>2003-04-23</td>\n",
       "      <td>16:40:00</td>\n",
       "      <td>Vancouver</td>\n",
       "    </tr>\n",
       "    <tr>\n",
       "      <th>3</th>\n",
       "      <td>Other Theft</td>\n",
       "      <td>9XX TERMINAL AVE</td>\n",
       "      <td>Strathcona</td>\n",
       "      <td>49.269802</td>\n",
       "      <td>-123.083763</td>\n",
       "      <td>2003-04-20</td>\n",
       "      <td>11:15:00</td>\n",
       "      <td>Vancouver</td>\n",
       "    </tr>\n",
       "    <tr>\n",
       "      <th>4</th>\n",
       "      <td>Other Theft</td>\n",
       "      <td>9XX TERMINAL AVE</td>\n",
       "      <td>Strathcona</td>\n",
       "      <td>49.269802</td>\n",
       "      <td>-123.083763</td>\n",
       "      <td>2003-04-12</td>\n",
       "      <td>17:45:00</td>\n",
       "      <td>Vancouver</td>\n",
       "    </tr>\n",
       "    <tr>\n",
       "      <th>...</th>\n",
       "      <td>...</td>\n",
       "      <td>...</td>\n",
       "      <td>...</td>\n",
       "      <td>...</td>\n",
       "      <td>...</td>\n",
       "      <td>...</td>\n",
       "      <td>...</td>\n",
       "      <td>...</td>\n",
       "    </tr>\n",
       "    <tr>\n",
       "      <th>530646</th>\n",
       "      <td>Mischief</td>\n",
       "      <td>14XX E HASTINGS ST</td>\n",
       "      <td>Grandview-Woodland</td>\n",
       "      <td>49.281276</td>\n",
       "      <td>-123.074746</td>\n",
       "      <td>2017-01-18</td>\n",
       "      <td>14:44:00</td>\n",
       "      <td>Vancouver</td>\n",
       "    </tr>\n",
       "    <tr>\n",
       "      <th>530647</th>\n",
       "      <td>Break and Enter Residential/Other</td>\n",
       "      <td>31XX ADANAC ST</td>\n",
       "      <td>Hastings-Sunrise</td>\n",
       "      <td>49.277420</td>\n",
       "      <td>-123.037595</td>\n",
       "      <td>2017-03-03</td>\n",
       "      <td>09:16:00</td>\n",
       "      <td>Vancouver</td>\n",
       "    </tr>\n",
       "    <tr>\n",
       "      <th>530648</th>\n",
       "      <td>Mischief</td>\n",
       "      <td>14XX E 7TH AVE</td>\n",
       "      <td>Grandview-Woodland</td>\n",
       "      <td>49.264163</td>\n",
       "      <td>-123.075129</td>\n",
       "      <td>2017-05-29</td>\n",
       "      <td>22:30:00</td>\n",
       "      <td>Vancouver</td>\n",
       "    </tr>\n",
       "    <tr>\n",
       "      <th>530650</th>\n",
       "      <td>Theft from Vehicle</td>\n",
       "      <td>8XX HAMILTON ST</td>\n",
       "      <td>Central Business District</td>\n",
       "      <td>49.278168</td>\n",
       "      <td>-123.117031</td>\n",
       "      <td>2017-06-05</td>\n",
       "      <td>17:00:00</td>\n",
       "      <td>Vancouver</td>\n",
       "    </tr>\n",
       "    <tr>\n",
       "      <th>530651</th>\n",
       "      <td>Vehicle Collision or Pedestrian Struck (with I...</td>\n",
       "      <td>13XX BLOCK PARK DR</td>\n",
       "      <td>Marpole</td>\n",
       "      <td>49.215706</td>\n",
       "      <td>-123.134512</td>\n",
       "      <td>2017-06-06</td>\n",
       "      <td>17:38:00</td>\n",
       "      <td>Vancouver</td>\n",
       "    </tr>\n",
       "  </tbody>\n",
       "</table>\n",
       "<p>476290 rows × 8 columns</p>\n",
       "</div>"
      ],
      "text/plain": [
       "                                                     TYPE       HUNDRED_BLOCK  \\\n",
       "0                                             Other Theft    9XX TERMINAL AVE   \n",
       "1                                             Other Theft    9XX TERMINAL AVE   \n",
       "2                                             Other Theft    9XX TERMINAL AVE   \n",
       "3                                             Other Theft    9XX TERMINAL AVE   \n",
       "4                                             Other Theft    9XX TERMINAL AVE   \n",
       "...                                                   ...                 ...   \n",
       "530646                                           Mischief  14XX E HASTINGS ST   \n",
       "530647                  Break and Enter Residential/Other      31XX ADANAC ST   \n",
       "530648                                           Mischief      14XX E 7TH AVE   \n",
       "530650                                 Theft from Vehicle     8XX HAMILTON ST   \n",
       "530651  Vehicle Collision or Pedestrian Struck (with I...  13XX BLOCK PARK DR   \n",
       "\n",
       "                    NEIGHBOURHOOD   Latitude   Longitude   CrimeDate  \\\n",
       "0                      Strathcona  49.269802 -123.083763  2003-05-12   \n",
       "1                      Strathcona  49.269802 -123.083763  2003-05-07   \n",
       "2                      Strathcona  49.269802 -123.083763  2003-04-23   \n",
       "3                      Strathcona  49.269802 -123.083763  2003-04-20   \n",
       "4                      Strathcona  49.269802 -123.083763  2003-04-12   \n",
       "...                           ...        ...         ...         ...   \n",
       "530646         Grandview-Woodland  49.281276 -123.074746  2017-01-18   \n",
       "530647           Hastings-Sunrise  49.277420 -123.037595  2017-03-03   \n",
       "530648         Grandview-Woodland  49.264163 -123.075129  2017-05-29   \n",
       "530650  Central Business District  49.278168 -123.117031  2017-06-05   \n",
       "530651                    Marpole  49.215706 -123.134512  2017-06-06   \n",
       "\n",
       "       CrimeTime       City  \n",
       "0       16:15:00  Vancouver  \n",
       "1       15:20:00  Vancouver  \n",
       "2       16:40:00  Vancouver  \n",
       "3       11:15:00  Vancouver  \n",
       "4       17:45:00  Vancouver  \n",
       "...          ...        ...  \n",
       "530646  14:44:00  Vancouver  \n",
       "530647  09:16:00  Vancouver  \n",
       "530648  22:30:00  Vancouver  \n",
       "530650  17:00:00  Vancouver  \n",
       "530651  17:38:00  Vancouver  \n",
       "\n",
       "[476290 rows x 8 columns]"
      ]
     },
     "execution_count": 5,
     "metadata": {},
     "output_type": "execute_result"
    }
   ],
   "source": [
    "df_vancouver['CrimeDate'] = pd.to_datetime(df_vancouver['DAY'].astype(str) + '/' + df_vancouver['MONTH'].astype(str) + '/' + df_vancouver['YEAR'].astype(str), format='%d/%m/%Y')\n",
    "df_vancouver['CrimeDate'] = df_vancouver['CrimeDate'].dt.strftime('%Y-%m-%d')\n",
    "df_vancouver = df_vancouver.dropna(subset=['HOUR', 'MINUTE'])\n",
    "df_vancouver['HOUR'] = df_vancouver['HOUR'].astype(int).astype(str).str.zfill(2)\n",
    "df_vancouver['MINUTE'] = df_vancouver['MINUTE'].astype(int).astype(str).str.zfill(2)\n",
    "df_vancouver['CrimeTime'] = pd.to_datetime(df_vancouver['HOUR'] + ':' + df_vancouver['MINUTE'], format='%H:%M').dt.strftime('%H:%M:%S')\n",
    "df_vancouver=df_vancouver.drop(columns=['YEAR','MONTH','DAY','HOUR','MINUTE','X','Y'])\n",
    "df_vancouver['City']='Vancouver'\n",
    "df_vancouver\n"
   ]
  },
  {
   "cell_type": "code",
   "execution_count": 6,
   "metadata": {},
   "outputs": [
    {
     "name": "stdout",
     "output_type": "stream",
     "text": [
      "['CrimeDate', 'CrimeTime', 'Location', 'Description', 'Neighborhood', 'Longitude', 'Latitude', 'City']\n",
      "['TYPE', 'HUNDRED_BLOCK', 'NEIGHBOURHOOD', 'Latitude', 'Longitude', 'CrimeDate', 'CrimeTime', 'City']\n"
     ]
    }
   ],
   "source": [
    "print(df_baltimore.columns.tolist()) \n",
    "print(df_vancouver.columns.tolist())"
   ]
  },
  {
   "cell_type": "code",
   "execution_count": 7,
   "metadata": {},
   "outputs": [],
   "source": [
    "df_vancouver.rename(columns={'TYPE': 'Description', \n",
    "                    'HUNDRED_BLOCK': 'Location', \n",
    "                    'NEIGHBOURHOOD': 'Neighborhood'}, inplace=True)\n"
   ]
  },
  {
   "cell_type": "code",
   "execution_count": 8,
   "metadata": {},
   "outputs": [
    {
     "name": "stdout",
     "output_type": "stream",
     "text": [
      "Description\n",
      "LARCENY                 60528\n",
      "COMMON ASSAULT          45518\n",
      "BURGLARY                42538\n",
      "LARCENY FROM AUTO       36295\n",
      "AGG. ASSAULT            27513\n",
      "AUTO THEFT              26838\n",
      "ROBBERY - STREET        17691\n",
      "ROBBERY - COMMERCIAL     4141\n",
      "ASSAULT BY THREAT        3503\n",
      "SHOOTING                 2910\n",
      "ROBBERY - RESIDENCE      2866\n",
      "RAPE                     1637\n",
      "HOMICIDE                 1559\n",
      "ROBBERY - CARJACKING     1528\n",
      "ARSON                    1464\n",
      "Name: count, dtype: int64\n"
     ]
    }
   ],
   "source": [
    "value_counts = df_baltimore['Description'].value_counts()\n",
    "\n",
    "print(value_counts)"
   ]
  },
  {
   "cell_type": "code",
   "execution_count": 9,
   "metadata": {},
   "outputs": [
    {
     "name": "stdout",
     "output_type": "stream",
     "text": [
      "Description\n",
      "Theft from Vehicle                                        172700\n",
      "Mischief                                                   70413\n",
      "Break and Enter Residential/Other                          60862\n",
      "Other Theft                                                52167\n",
      "Theft of Vehicle                                           38418\n",
      "Break and Enter Commercial                                 33845\n",
      "Theft of Bicycle                                           25730\n",
      "Vehicle Collision or Pedestrian Struck (with Injury)       21901\n",
      "Vehicle Collision or Pedestrian Struck (with Fatality)       254\n",
      "Name: count, dtype: int64\n"
     ]
    }
   ],
   "source": [
    "value_counts = df_vancouver['Description'].value_counts()\n",
    "print(value_counts)"
   ]
  },
  {
   "cell_type": "code",
   "execution_count": 10,
   "metadata": {},
   "outputs": [],
   "source": [
    "df_merged = pd.concat([df_baltimore, df_vancouver], ignore_index=True)"
   ]
  },
  {
   "cell_type": "code",
   "execution_count": 11,
   "metadata": {},
   "outputs": [
    {
     "name": "stdout",
     "output_type": "stream",
     "text": [
      "Description\n",
      "Theft from Vehicle                                        172700\n",
      "Mischief                                                   70413\n",
      "Break and Enter Residential/Other                          60862\n",
      "LARCENY                                                    60528\n",
      "Other Theft                                                52167\n",
      "COMMON ASSAULT                                             45518\n",
      "BURGLARY                                                   42538\n",
      "Theft of Vehicle                                           38418\n",
      "LARCENY FROM AUTO                                          36295\n",
      "Break and Enter Commercial                                 33845\n",
      "AGG. ASSAULT                                               27513\n",
      "AUTO THEFT                                                 26838\n",
      "Theft of Bicycle                                           25730\n",
      "Vehicle Collision or Pedestrian Struck (with Injury)       21901\n",
      "ROBBERY - STREET                                           17691\n",
      "ROBBERY - COMMERCIAL                                        4141\n",
      "ASSAULT BY THREAT                                           3503\n",
      "SHOOTING                                                    2910\n",
      "ROBBERY - RESIDENCE                                         2866\n",
      "RAPE                                                        1637\n",
      "HOMICIDE                                                    1559\n",
      "ROBBERY - CARJACKING                                        1528\n",
      "ARSON                                                       1464\n",
      "Vehicle Collision or Pedestrian Struck (with Fatality)       254\n",
      "Name: count, dtype: int64\n"
     ]
    }
   ],
   "source": [
    "value_counts = df_merged['Description'].value_counts()\n",
    "\n",
    "print(value_counts)"
   ]
  },
  {
   "cell_type": "code",
   "execution_count": 12,
   "metadata": {},
   "outputs": [],
   "source": [
    "df_merged['Description'] = df_merged['Description'].replace({'Theft from Vehicle': 'Theft', \n",
    "                                                             'Mischief': 'Other',\n",
    "                                                             'Break and Enter Residential/Other': 'Burglary',\n",
    "                                                             'LARCENY': 'Theft',\n",
    "                                                             'Other Theft':'Theft',\n",
    "                                                             'COMMON ASSAULT': 'Assault',\n",
    "                                                             'BURGLARY': 'Burglary',\n",
    "                                                             'Theft of Vehicle': 'Theft',\n",
    "                                                             'LARCENY FROM AUTO': 'Theft',\n",
    "                                                             'Break and Enter Commercial': 'Burglary',\n",
    "                                                             'AGG. ASSAULT':'Assault',\n",
    "                                                             'AUTO THEFT': 'Theft',\n",
    "                                                             'Theft of Bicycle': 'Theft',\n",
    "                                                             'Vehicle Collision or Pedestrian Struck (with Injury)': 'Accident',\n",
    "                                                             'ROBBERY - STREET':'Robbery',\n",
    "                                                             'ROBBERY - COMMERCIAL':'Robbery',\n",
    "                                                             'ASSAULT BY THREAT':'Assault',\n",
    "                                                             'SHOOTING':'Homicide',\n",
    "                                                             'ROBBERY - RESIDENCE':'Burglary',\n",
    "                                                             'RAPE':'Sexual offense',\n",
    "                                                             'HOMICIDE':'Homicide',\n",
    "                                                             'ROBBERY - CARJACKING':'Robbery',\n",
    "                                                             'ARSON':'Other',\n",
    "                                                             'Vehicle Collision or Pedestrian Struck (with Fatality)': 'Accident'\n",
    "                                                             })"
   ]
  },
  {
   "cell_type": "code",
   "execution_count": 13,
   "metadata": {},
   "outputs": [
    {
     "name": "stderr",
     "output_type": "stream",
     "text": [
      "C:\\Users\\celty\\AppData\\Local\\Temp\\ipykernel_7008\\76879916.py:3: SettingWithCopyWarning: \n",
      "A value is trying to be set on a copy of a slice from a DataFrame.\n",
      "Try using .loc[row_indexer,col_indexer] = value instead\n",
      "\n",
      "See the caveats in the documentation: https://pandas.pydata.org/pandas-docs/stable/user_guide/indexing.html#returning-a-view-versus-a-copy\n",
      "  df['id'] = range(1, len(df) + 1)\n"
     ]
    }
   ],
   "source": [
    "invalid_rows = df_merged['Longitude'].apply(lambda x: -123.9 < x < -123.8 or -122.9 < x < -122.8 or x < -124.1)\n",
    "df = df_merged[~invalid_rows]\n",
    "df['id'] = range(1, len(df) + 1)"
   ]
  },
  {
   "cell_type": "markdown",
   "metadata": {},
   "source": [
    "Here is our final dataframe:"
   ]
  },
  {
   "cell_type": "code",
   "execution_count": 14,
   "metadata": {},
   "outputs": [
    {
     "data": {
      "text/html": [
       "<div>\n",
       "<style scoped>\n",
       "    .dataframe tbody tr th:only-of-type {\n",
       "        vertical-align: middle;\n",
       "    }\n",
       "\n",
       "    .dataframe tbody tr th {\n",
       "        vertical-align: top;\n",
       "    }\n",
       "\n",
       "    .dataframe thead th {\n",
       "        text-align: right;\n",
       "    }\n",
       "</style>\n",
       "<table border=\"1\" class=\"dataframe\">\n",
       "  <thead>\n",
       "    <tr style=\"text-align: right;\">\n",
       "      <th></th>\n",
       "      <th>CrimeDate</th>\n",
       "      <th>CrimeTime</th>\n",
       "      <th>Location</th>\n",
       "      <th>Description</th>\n",
       "      <th>Neighborhood</th>\n",
       "      <th>Longitude</th>\n",
       "      <th>Latitude</th>\n",
       "      <th>City</th>\n",
       "      <th>id</th>\n",
       "    </tr>\n",
       "  </thead>\n",
       "  <tbody>\n",
       "    <tr>\n",
       "      <th>0</th>\n",
       "      <td>2017-09-02 00:00:00</td>\n",
       "      <td>23:30:00</td>\n",
       "      <td>4200 AUDREY AVE</td>\n",
       "      <td>Burglary</td>\n",
       "      <td>Brooklyn</td>\n",
       "      <td>-76.605410</td>\n",
       "      <td>39.229510</td>\n",
       "      <td>Baltimore</td>\n",
       "      <td>1</td>\n",
       "    </tr>\n",
       "    <tr>\n",
       "      <th>1</th>\n",
       "      <td>2017-09-02 00:00:00</td>\n",
       "      <td>23:00:00</td>\n",
       "      <td>800 NEWINGTON AVE</td>\n",
       "      <td>Theft</td>\n",
       "      <td>Reservoir Hill</td>\n",
       "      <td>-76.632170</td>\n",
       "      <td>39.313600</td>\n",
       "      <td>Baltimore</td>\n",
       "      <td>2</td>\n",
       "    </tr>\n",
       "    <tr>\n",
       "      <th>2</th>\n",
       "      <td>2017-09-02 00:00:00</td>\n",
       "      <td>22:53:00</td>\n",
       "      <td>600 RADNOR AV</td>\n",
       "      <td>Homicide</td>\n",
       "      <td>Winston-Govans</td>\n",
       "      <td>-76.606970</td>\n",
       "      <td>39.347680</td>\n",
       "      <td>Baltimore</td>\n",
       "      <td>3</td>\n",
       "    </tr>\n",
       "    <tr>\n",
       "      <th>3</th>\n",
       "      <td>2017-09-02 00:00:00</td>\n",
       "      <td>22:50:00</td>\n",
       "      <td>1800 RAMSAY ST</td>\n",
       "      <td>Assault</td>\n",
       "      <td>Carrollton Ridge</td>\n",
       "      <td>-76.645260</td>\n",
       "      <td>39.283150</td>\n",
       "      <td>Baltimore</td>\n",
       "      <td>4</td>\n",
       "    </tr>\n",
       "    <tr>\n",
       "      <th>4</th>\n",
       "      <td>2017-09-02 00:00:00</td>\n",
       "      <td>22:31:00</td>\n",
       "      <td>100 LIGHT ST</td>\n",
       "      <td>Assault</td>\n",
       "      <td>Downtown West</td>\n",
       "      <td>-76.613650</td>\n",
       "      <td>39.287560</td>\n",
       "      <td>Baltimore</td>\n",
       "      <td>5</td>\n",
       "    </tr>\n",
       "    <tr>\n",
       "      <th>...</th>\n",
       "      <td>...</td>\n",
       "      <td>...</td>\n",
       "      <td>...</td>\n",
       "      <td>...</td>\n",
       "      <td>...</td>\n",
       "      <td>...</td>\n",
       "      <td>...</td>\n",
       "      <td>...</td>\n",
       "      <td>...</td>\n",
       "    </tr>\n",
       "    <tr>\n",
       "      <th>752814</th>\n",
       "      <td>2017-01-18</td>\n",
       "      <td>14:44:00</td>\n",
       "      <td>14XX E HASTINGS ST</td>\n",
       "      <td>Other</td>\n",
       "      <td>Grandview-Woodland</td>\n",
       "      <td>-123.074746</td>\n",
       "      <td>49.281276</td>\n",
       "      <td>Vancouver</td>\n",
       "      <td>752810</td>\n",
       "    </tr>\n",
       "    <tr>\n",
       "      <th>752815</th>\n",
       "      <td>2017-03-03</td>\n",
       "      <td>09:16:00</td>\n",
       "      <td>31XX ADANAC ST</td>\n",
       "      <td>Burglary</td>\n",
       "      <td>Hastings-Sunrise</td>\n",
       "      <td>-123.037595</td>\n",
       "      <td>49.277420</td>\n",
       "      <td>Vancouver</td>\n",
       "      <td>752811</td>\n",
       "    </tr>\n",
       "    <tr>\n",
       "      <th>752816</th>\n",
       "      <td>2017-05-29</td>\n",
       "      <td>22:30:00</td>\n",
       "      <td>14XX E 7TH AVE</td>\n",
       "      <td>Other</td>\n",
       "      <td>Grandview-Woodland</td>\n",
       "      <td>-123.075129</td>\n",
       "      <td>49.264163</td>\n",
       "      <td>Vancouver</td>\n",
       "      <td>752812</td>\n",
       "    </tr>\n",
       "    <tr>\n",
       "      <th>752817</th>\n",
       "      <td>2017-06-05</td>\n",
       "      <td>17:00:00</td>\n",
       "      <td>8XX HAMILTON ST</td>\n",
       "      <td>Theft</td>\n",
       "      <td>Central Business District</td>\n",
       "      <td>-123.117031</td>\n",
       "      <td>49.278168</td>\n",
       "      <td>Vancouver</td>\n",
       "      <td>752813</td>\n",
       "    </tr>\n",
       "    <tr>\n",
       "      <th>752818</th>\n",
       "      <td>2017-06-06</td>\n",
       "      <td>17:38:00</td>\n",
       "      <td>13XX BLOCK PARK DR</td>\n",
       "      <td>Accident</td>\n",
       "      <td>Marpole</td>\n",
       "      <td>-123.134512</td>\n",
       "      <td>49.215706</td>\n",
       "      <td>Vancouver</td>\n",
       "      <td>752814</td>\n",
       "    </tr>\n",
       "  </tbody>\n",
       "</table>\n",
       "<p>752814 rows × 9 columns</p>\n",
       "</div>"
      ],
      "text/plain": [
       "                  CrimeDate CrimeTime            Location Description  \\\n",
       "0       2017-09-02 00:00:00  23:30:00     4200 AUDREY AVE    Burglary   \n",
       "1       2017-09-02 00:00:00  23:00:00   800 NEWINGTON AVE       Theft   \n",
       "2       2017-09-02 00:00:00  22:53:00       600 RADNOR AV    Homicide   \n",
       "3       2017-09-02 00:00:00  22:50:00      1800 RAMSAY ST     Assault   \n",
       "4       2017-09-02 00:00:00  22:31:00        100 LIGHT ST     Assault   \n",
       "...                     ...       ...                 ...         ...   \n",
       "752814           2017-01-18  14:44:00  14XX E HASTINGS ST       Other   \n",
       "752815           2017-03-03  09:16:00      31XX ADANAC ST    Burglary   \n",
       "752816           2017-05-29  22:30:00      14XX E 7TH AVE       Other   \n",
       "752817           2017-06-05  17:00:00     8XX HAMILTON ST       Theft   \n",
       "752818           2017-06-06  17:38:00  13XX BLOCK PARK DR    Accident   \n",
       "\n",
       "                     Neighborhood   Longitude   Latitude       City      id  \n",
       "0                        Brooklyn  -76.605410  39.229510  Baltimore       1  \n",
       "1                  Reservoir Hill  -76.632170  39.313600  Baltimore       2  \n",
       "2                  Winston-Govans  -76.606970  39.347680  Baltimore       3  \n",
       "3                Carrollton Ridge  -76.645260  39.283150  Baltimore       4  \n",
       "4                   Downtown West  -76.613650  39.287560  Baltimore       5  \n",
       "...                           ...         ...        ...        ...     ...  \n",
       "752814         Grandview-Woodland -123.074746  49.281276  Vancouver  752810  \n",
       "752815           Hastings-Sunrise -123.037595  49.277420  Vancouver  752811  \n",
       "752816         Grandview-Woodland -123.075129  49.264163  Vancouver  752812  \n",
       "752817  Central Business District -123.117031  49.278168  Vancouver  752813  \n",
       "752818                    Marpole -123.134512  49.215706  Vancouver  752814  \n",
       "\n",
       "[752814 rows x 9 columns]"
      ]
     },
     "execution_count": 14,
     "metadata": {},
     "output_type": "execute_result"
    }
   ],
   "source": [
    "df"
   ]
  },
  {
   "cell_type": "code",
   "execution_count": 15,
   "metadata": {},
   "outputs": [
    {
     "name": "stdout",
     "output_type": "stream",
     "text": [
      "<class 'pandas.core.frame.DataFrame'>\n",
      "Index: 752814 entries, 0 to 752818\n",
      "Data columns (total 9 columns):\n",
      " #   Column        Non-Null Count   Dtype  \n",
      "---  ------        --------------   -----  \n",
      " 0   CrimeDate     752814 non-null  object \n",
      " 1   CrimeTime     752814 non-null  object \n",
      " 2   Location      750594 non-null  object \n",
      " 3   Description   752814 non-null  object \n",
      " 4   Neighborhood  747817 non-null  object \n",
      " 5   Longitude     750610 non-null  float64\n",
      " 6   Latitude      750610 non-null  float64\n",
      " 7   City          752814 non-null  object \n",
      " 8   id            752814 non-null  int64  \n",
      "dtypes: float64(2), int64(1), object(6)\n",
      "memory usage: 57.4+ MB\n"
     ]
    }
   ],
   "source": [
    "df.info()"
   ]
  },
  {
   "cell_type": "markdown",
   "metadata": {},
   "source": [
    "## Build the database"
   ]
  },
  {
   "cell_type": "markdown",
   "metadata": {},
   "source": [
    "After getting the clean data, what we need to do is to build a database and create one table named `crime_listing`, and store all our data into that table."
   ]
  },
  {
   "cell_type": "code",
   "execution_count": 16,
   "metadata": {},
   "outputs": [],
   "source": [
    "DATA_FOLDER = os.path.join('../data/clean')"
   ]
  },
  {
   "cell_type": "code",
   "execution_count": 17,
   "metadata": {},
   "outputs": [],
   "source": [
    "# Create a SQLite database in the ../data/clean/crime.db\n",
    "conn = sqlite3.connect(os.path.join(DATA_FOLDER, './crime_db.db'))"
   ]
  },
  {
   "cell_type": "code",
   "execution_count": 19,
   "metadata": {},
   "outputs": [
    {
     "data": {
      "text/plain": [
       "<sqlite3.Cursor at 0x1c7430159c0>"
      ]
     },
     "execution_count": 19,
     "metadata": {},
     "output_type": "execute_result"
    }
   ],
   "source": [
    "# Delete the product_listing table\n",
    "conn.execute('''\n",
    "DROP TABLE crime_listing;\n",
    "''')"
   ]
  },
  {
   "cell_type": "code",
   "execution_count": 20,
   "metadata": {},
   "outputs": [
    {
     "name": "stderr",
     "output_type": "stream",
     "text": [
      "C:\\Users\\celty\\AppData\\Local\\Temp\\ipykernel_7008\\1602267448.py:1: SettingWithCopyWarning: \n",
      "A value is trying to be set on a copy of a slice from a DataFrame.\n",
      "Try using .loc[row_indexer,col_indexer] = value instead\n",
      "\n",
      "See the caveats in the documentation: https://pandas.pydata.org/pandas-docs/stable/user_guide/indexing.html#returning-a-view-versus-a-copy\n",
      "  df['CrimeTime'] = df['CrimeTime'].astype(str)\n",
      "C:\\Users\\celty\\AppData\\Local\\Temp\\ipykernel_7008\\1602267448.py:2: SettingWithCopyWarning: \n",
      "A value is trying to be set on a copy of a slice from a DataFrame.\n",
      "Try using .loc[row_indexer,col_indexer] = value instead\n",
      "\n",
      "See the caveats in the documentation: https://pandas.pydata.org/pandas-docs/stable/user_guide/indexing.html#returning-a-view-versus-a-copy\n",
      "  df['CrimeDate'] = df['CrimeDate'].astype(str)\n"
     ]
    }
   ],
   "source": [
    "df['CrimeTime'] = df['CrimeTime'].astype(str)\n",
    "df['CrimeDate'] = df['CrimeDate'].astype(str)"
   ]
  },
  {
   "cell_type": "code",
   "execution_count": 21,
   "metadata": {},
   "outputs": [
    {
     "data": {
      "text/plain": [
       "<sqlite3.Cursor at 0x1c73fd297c0>"
      ]
     },
     "execution_count": 21,
     "metadata": {},
     "output_type": "execute_result"
    }
   ],
   "source": [
    "# Create our table based on the crime data we have\n",
    "\n",
    "conn.execute('''\n",
    "CREATE TABLE IF NOT EXISTS crime_listing (\n",
    "    CrimeDate TEXT,\n",
    "    CrimeTime TEXT,\n",
    "    Location TEXT,\n",
    "    Description TEXT,\n",
    "    Neighborhood TEXT,\n",
    "    Longitude REAL,\n",
    "    Latitude REAL,\n",
    "    City TEXT,\n",
    "    id INTEGER TEXT PRIMARY KEY\n",
    ")\n",
    "''')\n"
   ]
  },
  {
   "cell_type": "code",
   "execution_count": 22,
   "metadata": {},
   "outputs": [
    {
     "data": {
      "text/plain": [
       "752814"
      ]
     },
     "execution_count": 22,
     "metadata": {},
     "output_type": "execute_result"
    }
   ],
   "source": [
    "df.to_sql(name='crime_listing', con=conn, if_exists='append', index=False)"
   ]
  },
  {
   "cell_type": "code",
   "execution_count": 23,
   "metadata": {},
   "outputs": [],
   "source": [
    "!pip freeze > requirement.txt"
   ]
  }
 ],
 "metadata": {
  "kernelspec": {
   "display_name": "base",
   "language": "python",
   "name": "python3"
  },
  "language_info": {
   "codemirror_mode": {
    "name": "ipython",
    "version": 3
   },
   "file_extension": ".py",
   "mimetype": "text/x-python",
   "name": "python",
   "nbconvert_exporter": "python",
   "pygments_lexer": "ipython3",
   "version": "3.11.7"
  }
 },
 "nbformat": 4,
 "nbformat_minor": 2
}
